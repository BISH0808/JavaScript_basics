{
  "nbformat": 4,
  "nbformat_minor": 0,
  "metadata": {
    "colab": {
      "provenance": [],
      "authorship_tag": "ABX9TyPzuQuD9uqmhw7Z1b1OvGXh",
      "include_colab_link": true
    },
    "kernelspec": {
      "name": "python3",
      "display_name": "Python 3"
    },
    "language_info": {
      "name": "python"
    }
  },
  "cells": [
    {
      "cell_type": "markdown",
      "metadata": {
        "id": "view-in-github",
        "colab_type": "text"
      },
      "source": [
        "<a href=\"https://colab.research.google.com/github/BISH0808/JavaScript_basics/blob/main/React_JS.ipynb\" target=\"_parent\"><img src=\"https://colab.research.google.com/assets/colab-badge.svg\" alt=\"Open In Colab\"/></a>"
      ]
    },
    {
      "cell_type": "markdown",
      "source": [
        "# React JS"
      ],
      "metadata": {
        "id": "C4MwzzJ-N3qI"
      }
    },
    {
      "cell_type": "markdown",
      "source": [
        "## React Tutorial"
      ],
      "metadata": {
        "id": "RfhmbWcBOgfn"
      }
    },
    {
      "cell_type": "markdown",
      "source": [
        "https://www.w3schools.com/react/default.asp"
      ],
      "metadata": {
        "id": "8e_mG6PWOffX"
      }
    },
    {
      "cell_type": "markdown",
      "source": [
        "##React Router"
      ],
      "metadata": {
        "id": "E6iWI3GOOjTH"
      }
    },
    {
      "cell_type": "markdown",
      "source": [
        "Browser Router"
      ],
      "metadata": {
        "id": "MFnClKbpN7ji"
      }
    },
    {
      "cell_type": "code",
      "execution_count": null,
      "metadata": {
        "id": "6uURC932Nz6s"
      },
      "outputs": [],
      "source": []
    }
  ]
}