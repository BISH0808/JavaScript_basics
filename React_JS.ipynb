{
  "nbformat": 4,
  "nbformat_minor": 0,
  "metadata": {
    "colab": {
      "provenance": [],
      "toc_visible": true,
      "authorship_tag": "ABX9TyNGMdhERvCigAdGIFp7TG/S",
      "include_colab_link": true
    },
    "kernelspec": {
      "name": "python3",
      "display_name": "Python 3"
    },
    "language_info": {
      "name": "python"
    }
  },
  "cells": [
    {
      "cell_type": "markdown",
      "metadata": {
        "id": "view-in-github",
        "colab_type": "text"
      },
      "source": [
        "<a href=\"https://colab.research.google.com/github/BISH0808/JavaScript_basics/blob/main/React_JS.ipynb\" target=\"_parent\"><img src=\"https://colab.research.google.com/assets/colab-badge.svg\" alt=\"Open In Colab\"/></a>"
      ]
    },
    {
      "cell_type": "markdown",
      "source": [
        "# React JS"
      ],
      "metadata": {
        "id": "C4MwzzJ-N3qI"
      }
    },
    {
      "cell_type": "markdown",
      "source": [
        "# React Tutorial"
      ],
      "metadata": {
        "id": "RfhmbWcBOgfn"
      }
    },
    {
      "cell_type": "markdown",
      "source": [
        "Ссылка на домашнюю страницу React Tutorial на w3schools"
      ],
      "metadata": {
        "id": "3Pz5zzQGxctL"
      }
    },
    {
      "cell_type": "markdown",
      "source": [
        "https://www.w3schools.com/react/default.asp"
      ],
      "metadata": {
        "id": "8e_mG6PWOffX"
      }
    },
    {
      "cell_type": "markdown",
      "source": [
        "Классные youtube канал про React - \n",
        "\n",
        "https://www.youtube.com/@jsreact2728/videos"
      ],
      "metadata": {
        "id": "UESGrVJzDj6x"
      }
    },
    {
      "cell_type": "markdown",
      "source": [],
      "metadata": {
        "id": "UJatBquFDqkK"
      }
    },
    {
      "cell_type": "markdown",
      "source": [
        "## Хуки в JavaScript"
      ],
      "metadata": {
        "id": "kbtY4JcluvyE"
      }
    },
    {
      "cell_type": "markdown",
      "source": [
        "Хуки — нововведение в React 16.8, которое позволяет использовать состояние и другие возможности React без написания классов."
      ],
      "metadata": {
        "id": "tgll1UGLu1_b"
      }
    },
    {
      "cell_type": "markdown",
      "source": [
        "[Источник](https://ru.reactjs.org/docs/hooks-effect.html)\n",
        "\n"
      ],
      "metadata": {
        "id": "SDSz6-Ipu3ec"
      }
    },
    {
      "cell_type": "markdown",
      "source": [
        "### Use Effect"
      ],
      "metadata": {
        "id": "qsZcE8MitZE7"
      }
    },
    {
      "cell_type": "markdown",
      "source": [
        "UseEffect — это хук, который можно использовать для замены некоторых методов жизненного цикла классового компонента. UseEffect используется с функциональными компонентами в следующих случаях:\n",
        "* при визуализации компонента (метод componentDidMount в классовом компоненте);\n",
        "\n",
        "* при обновлении компонента (метод componentDidUpdated в классовом компоненте);\n",
        "\n",
        "* при удалении компонента из DOM (метод componentWillUnmount в классовом компоненте)."
      ],
      "metadata": {
        "id": "LK7Aikb5td4r"
      }
    },
    {
      "cell_type": "markdown",
      "source": [
        "\n",
        "[Источник](https://habr.com/ru/company/rshb/blog/687364/)`\n",
        "\n"
      ],
      "metadata": {
        "id": "wcFgr6u9tpoV"
      }
    },
    {
      "cell_type": "markdown",
      "source": [
        "## Router in JavaScript"
      ],
      "metadata": {
        "id": "pgi2fTPu2EJx"
      }
    },
    {
      "cell_type": "markdown",
      "source": [
        "### Что такое роутинг (маршрутизация)?"
      ],
      "metadata": {
        "id": "OI4NtVGe2KyU"
      }
    },
    {
      "cell_type": "markdown",
      "source": [
        "Роутинг - переходы по ссылкам и все что с ними связано, маршрутизация внутри проекта "
      ],
      "metadata": {
        "id": "UXO0rxiX2U_i"
      }
    },
    {
      "cell_type": "markdown",
      "source": [
        "Routing - маршрутизация - организация маршрутов."
      ],
      "metadata": {
        "id": "NtSTbg9f6dHc"
      }
    },
    {
      "cell_type": "markdown",
      "source": [
        "Видео про роутинг\n",
        "\n",
        "https://www.youtube.com/watch?v=WSMownyK7D8"
      ],
      "metadata": {
        "id": "QIF6jJql6jG0"
      }
    },
    {
      "cell_type": "markdown",
      "source": [
        "### React Router"
      ],
      "metadata": {
        "id": "E6iWI3GOOjTH"
      }
    },
    {
      "cell_type": "markdown",
      "source": [
        "Browser Router"
      ],
      "metadata": {
        "id": "MFnClKbpN7ji"
      }
    },
    {
      "cell_type": "markdown",
      "source": [
        "При старте проекта вам нужно определить какой тип роутера использовать. Для браузерных проектов есть BrowserRouter и HashRouter компоненты. **BrowserRouter** — следует использовать когда вы обрабатываете на сервере динамические запросы, а HashRouter используйте когда у вас статический веб сайт."
      ],
      "metadata": {
        "id": "NUbYBqZ-wjCI"
      }
    },
    {
      "cell_type": "markdown",
      "source": [
        "[Источник](https://habr.com/ru/post/329996/)"
      ],
      "metadata": {
        "id": "RALlkEkT1HJz"
      }
    },
    {
      "cell_type": "markdown",
      "source": [
        "Видео про основы react router -\n",
        "\n",
        "https://www.youtube.com/watch?v=1znkMFtknWk"
      ],
      "metadata": {
        "id": "GN_uVgbXDyjl"
      }
    },
    {
      "cell_type": "markdown",
      "source": [
        "## Tooltip components (подсказки)"
      ],
      "metadata": {
        "id": "lQVuRcOo87Lw"
      }
    },
    {
      "cell_type": "markdown",
      "source": [
        "Всплывающие подсказки отображают информативный текст когда пользователь наводит курсор на элемент, фокусируется на нем или нажимает на него."
      ],
      "metadata": {
        "id": "NoalJXLw8_xt"
      }
    },
    {
      "cell_type": "markdown",
      "source": [
        "Видео про Tooltip Components в Javascript - \n",
        "\n",
        "https://www.youtube.com/watch?v=WsxjZgw5LBg"
      ],
      "metadata": {
        "id": "wjsL_1IB9HhS"
      }
    },
    {
      "cell_type": "markdown",
      "source": [],
      "metadata": {
        "id": "5OgEHoaS9P1O"
      }
    },
    {
      "cell_type": "code",
      "execution_count": null,
      "metadata": {
        "id": "6uURC932Nz6s"
      },
      "outputs": [],
      "source": []
    }
  ]
}