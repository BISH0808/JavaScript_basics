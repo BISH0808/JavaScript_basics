{
  "nbformat": 4,
  "nbformat_minor": 0,
  "metadata": {
    "colab": {
      "provenance": [],
      "authorship_tag": "ABX9TyMYR5XwzKQturYEb1Wu0Lt7",
      "include_colab_link": true
    },
    "kernelspec": {
      "name": "python3",
      "display_name": "Python 3"
    },
    "language_info": {
      "name": "python"
    }
  },
  "cells": [
    {
      "cell_type": "markdown",
      "metadata": {
        "id": "view-in-github",
        "colab_type": "text"
      },
      "source": [
        "<a href=\"https://colab.research.google.com/github/BISH0808/JavaScript_basics/blob/main/Notes_from_UlbiTV_video/Post_Form.ipynb\" target=\"_parent\"><img src=\"https://colab.research.google.com/assets/colab-badge.svg\" alt=\"Open In Colab\"/></a>"
      ]
    },
    {
      "cell_type": "markdown",
      "source": [
        "# Форма для создания поста"
      ],
      "metadata": {
        "id": "WcTsB7Rtu2st"
      }
    },
    {
      "cell_type": "markdown",
      "source": [
        "* Отдельно создадим компонент **PostForm**:"
      ],
      "metadata": {
        "id": "LM1YVW0RgQiM"
      }
    },
    {
      "cell_type": "code",
      "source": [
        "import React from 'react';\n",
        "import Mybutton from './components/UI/button/Mybutton';\n",
        "import Myinput from './components/UI/input/Myinput';\n",
        "// import { useRef } from 'react';\n",
        "// import PostItem from './components/PostItem';\n",
        "const PostForm = (create) => {\n",
        "\n",
        "    const [post, setPost]  = useState({title: '', body: ''})\n",
        "\n",
        "\n",
        "    const addNewPost = (e) => {\n",
        "        e.preventDefault()\n",
        "        const newPost = {\n",
        "            ...post, id: Date.now()\n",
        "        }\n",
        "        create(newPost)\n",
        "        setPost({title: '', body: ''})\n",
        "    }\n",
        "    return (\n",
        "\n",
        "        <form>\n",
        "        {/* Управляемый компонент */}\n",
        "        <Myinput\n",
        "          value={post.title}\n",
        "          onChange={e => setPost({...post, title: e.target.value})}\n",
        "          type=\"text\"\n",
        "          placeholder=\"Название поста\"\n",
        "        />\n",
        "{/* Неконтролируемый или неупарвляемый компонент */}\n",
        "        <Myinput\n",
        "          value={post.body}\n",
        "          onChange={e => setPost({...post, body: e.target.value})}\n",
        "          type=\"text\"\n",
        "          placeholder=\"Описание поста\"\n",
        "        />\n",
        "        <Mybutton onClick={addNewPost}>Создать пост</Mybutton>\n",
        "      </form>\n",
        "\n",
        "  )\n",
        "}\n",
        "\n",
        "export default PostForm\n"
      ],
      "metadata": {
        "id": "fVsAtlDhg1UL"
      },
      "execution_count": null,
      "outputs": []
    },
    {
      "cell_type": "markdown",
      "source": [
        "* **App.js** будет выглядеть так:"
      ],
      "metadata": {
        "id": "9yNLBAWJg4C8"
      }
    },
    {
      "cell_type": "code",
      "source": [
        "import React, {useState} from 'react';\n",
        "import Counter from './components/Counter';\n",
        "import ClassCounter from './components/ClassCounter';\n",
        "import './styles/App.css'\n",
        "import PostItem from './components/PostItem';\n",
        "import Postlist from './components/Postlist';\n",
        "import Mybutton from './components/UI/button/Mybutton';\n",
        "import Myinput from './components/UI/input/Myinput';\n",
        "import { useRef } from 'react';\n",
        "import PostForm from './components/PostForm';\n",
        "\n",
        "function App() {\n",
        "        const [posts, setPosts] = useState([\n",
        "          {id: 1, title: 'Javasript', body: 'Description'},\n",
        "          {id: 2, title: 'Javasript 2', body: 'Description'},\n",
        "          {id: 3, title: 'Jaфvasript 3', body: 'Description'},\n",
        "          {id: 4, title: 'Javasript 4', body: 'Description'}\n",
        "        ])\n",
        "\n",
        "        const createPost = (newPost) => {\n",
        "          setPosts([...posts, newPost])\n",
        "        }\n",
        "\n",
        "\n",
        "\n",
        "\n",
        "\n",
        "\n",
        "\n",
        "\n",
        "  return (\n",
        "    <div className=\"App\">\n",
        "      <PostForm create={createPost} />\n",
        "      <Postlist posts={posts} title=\"Посты про JS\"/>\n",
        "\n",
        "\n",
        "    </div>\n",
        "  );\n",
        "}\n",
        "\n",
        "export default App;\n"
      ],
      "metadata": {
        "id": "gcJAFByCg9eO"
      },
      "execution_count": null,
      "outputs": []
    },
    {
      "cell_type": "markdown",
      "source": [
        "**Пока почему-то не работает. Надо будет наладить**"
      ],
      "metadata": {
        "id": "iKoaZffklQgU"
      }
    }
  ]
}