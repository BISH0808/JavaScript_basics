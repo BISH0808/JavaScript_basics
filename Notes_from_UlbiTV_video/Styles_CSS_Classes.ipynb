{
  "nbformat": 4,
  "nbformat_minor": 0,
  "metadata": {
    "colab": {
      "provenance": [],
      "authorship_tag": "ABX9TyNYHY4Pi1CZE7n9a0tZLxq+",
      "include_colab_link": true
    },
    "kernelspec": {
      "name": "python3",
      "display_name": "Python 3"
    },
    "language_info": {
      "name": "python"
    }
  },
  "cells": [
    {
      "cell_type": "markdown",
      "metadata": {
        "id": "view-in-github",
        "colab_type": "text"
      },
      "source": [
        "<a href=\"https://colab.research.google.com/github/BISH0808/JavaScript_basics/blob/main/Notes_from_UlbiTV_video/Styles_CSS_Classes.ipynb\" target=\"_parent\"><img src=\"https://colab.research.google.com/assets/colab-badge.svg\" alt=\"Open In Colab\"/></a>"
      ]
    },
    {
      "cell_type": "markdown",
      "source": [
        "# Стили, CSS, классы    "
      ],
      "metadata": {
        "id": "b6Dli_6aFXF7"
      }
    },
    {
      "cell_type": "markdown",
      "source": [
        "* Научимся добавлять стили на наши элементы"
      ],
      "metadata": {
        "id": "CGut98S4FfAK"
      }
    },
    {
      "cell_type": "code",
      "execution_count": null,
      "metadata": {
        "id": "MQe6OqLFFTLD"
      },
      "outputs": [],
      "source": []
    }
  ]
}