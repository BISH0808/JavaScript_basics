{
  "nbformat": 4,
  "nbformat_minor": 0,
  "metadata": {
    "colab": {
      "provenance": [],
      "authorship_tag": "ABX9TyPLwwhveCazG3oN03QzM3A+",
      "include_colab_link": true
    },
    "kernelspec": {
      "name": "python3",
      "display_name": "Python 3"
    },
    "language_info": {
      "name": "python"
    }
  },
  "cells": [
    {
      "cell_type": "markdown",
      "metadata": {
        "id": "view-in-github",
        "colab_type": "text"
      },
      "source": [
        "<a href=\"https://colab.research.google.com/github/BISH0808/JavaScript_basics/blob/main/Notes_from_UlbiTV_video/Styles_CSS_Classes.ipynb\" target=\"_parent\"><img src=\"https://colab.research.google.com/assets/colab-badge.svg\" alt=\"Open In Colab\"/></a>"
      ]
    },
    {
      "cell_type": "markdown",
      "source": [
        "# Стили, CSS, классы    "
      ],
      "metadata": {
        "id": "b6Dli_6aFXF7"
      }
    },
    {
      "cell_type": "markdown",
      "source": [
        "* Научимся добавлять стили на наши элементы"
      ],
      "metadata": {
        "id": "CGut98S4FfAK"
      }
    },
    {
      "cell_type": "markdown",
      "source": [
        "* Для того чтобы добавить класс на элемент необходимо использовать слово **Classname**. Слово **Class** зарезервировано и служит для создаения  JavaScript классов, а сейчас речь идет про CSS классы."
      ],
      "metadata": {
        "id": "6JTrL7iny7Mk"
      }
    },
    {
      "cell_type": "markdown",
      "source": [
        "* В папке **src** необходимо добавить папку **styles**. В папку **styles** необходимо добавить файл **App.css**"
      ],
      "metadata": {
        "id": "tSe2_jCCzC-S"
      }
    },
    {
      "cell_type": "markdown",
      "source": [
        "Вот так может выглядеть файл **App.jsx** :"
      ],
      "metadata": {
        "id": "UGUJ8sOV2lMI"
      }
    },
    {
      "cell_type": "code",
      "execution_count": null,
      "metadata": {
        "id": "MQe6OqLFFTLD"
      },
      "outputs": [],
      "source": [
        "import React, {useState} from 'react';\n",
        "import Counter from './components/Counter';\n",
        "import ClassCounter from './components/ClassCounter';\n",
        "import './styles/App.css'\n",
        "function App() {\n",
        "\n",
        "const [value, setValue] = useState('ТЕКСТ В ИНПУТЕ')\n",
        "\n",
        "\n",
        "  return (\n",
        "    <div className=\"App\">\n",
        "      <div className = \"post\">\n",
        "        <div className = \"post__content\">\n",
        "          <strong>1. Javascript </strong>\n",
        "          <div>\n",
        "            Javascript - язык программирования\n",
        "          </div>\n",
        "          <div className=\"post__btns\">\n",
        "            <button>Удалить</button>\n",
        "          </div>\n",
        "        </div>\n",
        "      </div>\n",
        "\n",
        "    </div>\n",
        "  );\n",
        "}\n",
        "\n",
        "export default App;\n"
      ]
    },
    {
      "cell_type": "markdown",
      "source": [
        "Вот так может выглядеть файл **App.css** :"
      ],
      "metadata": {
        "id": "BlcjLgJW22eC"
      }
    },
    {
      "cell_type": "code",
      "source": [
        "*{\n",
        "    margin: 0;\n",
        "    padding: 0;\n",
        "    box-sizing: border-box;\n",
        "}\n",
        "\n",
        "#root{\n",
        "    display: flex;\n",
        "    justify-content: center;\n",
        "}\n",
        "\n",
        ".App {\n",
        "    width: 800px;\n",
        "}\n",
        "\n",
        "\n",
        ".post {\n",
        "    display: flex;\n",
        "    padding: 15 px;\n",
        "    border: 2px solid teal;\n",
        "    margin-top: 15px;\n",
        "\n",
        "}"
      ],
      "metadata": {
        "id": "ILsosKeh25lf"
      },
      "execution_count": null,
      "outputs": []
    },
    {
      "cell_type": "markdown",
      "source": [
        "Вот так будет выглядеть страцница:"
      ],
      "metadata": {
        "id": "-CFIwseI25U3"
      }
    },
    {
      "cell_type": "markdown",
      "source": [
        "![image.png](data:image/png;base64,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)"
      ],
      "metadata": {
        "id": "Dlgp4XcC2_NA"
      }
    }
  ]
}