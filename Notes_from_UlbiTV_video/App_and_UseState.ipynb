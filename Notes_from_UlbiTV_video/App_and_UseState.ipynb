{
  "nbformat": 4,
  "nbformat_minor": 0,
  "metadata": {
    "colab": {
      "provenance": [],
      "authorship_tag": "ABX9TyPOe/V/zA8ClsbMbTrNeGrt",
      "include_colab_link": true
    },
    "kernelspec": {
      "name": "python3",
      "display_name": "Python 3"
    },
    "language_info": {
      "name": "python"
    }
  },
  "cells": [
    {
      "cell_type": "markdown",
      "metadata": {
        "id": "view-in-github",
        "colab_type": "text"
      },
      "source": [
        "<a href=\"https://colab.research.google.com/github/BISH0808/JavaScript_basics/blob/main/Notes_from_UlbiTV_video/App_and_UseState.ipynb\" target=\"_parent\"><img src=\"https://colab.research.google.com/assets/colab-badge.svg\" alt=\"Open In Colab\"/></a>"
      ]
    },
    {
      "cell_type": "markdown",
      "source": [
        "# App and UseState"
      ],
      "metadata": {
        "id": "kz5s6CEO95Zx"
      }
    },
    {
      "cell_type": "markdown",
      "source": [
        "#Ниже примеры по работе с состоянием:"
      ],
      "metadata": {
        "id": "AeV8iOnpRaQx"
      }
    },
    {
      "cell_type": "markdown",
      "source": [
        "* Для того чтобы, например, увеличивать или уменьщать количество лайков, необходимо *повесить* слушаетель событий на кнопку **onClick**"
      ],
      "metadata": {
        "id": "yXRi_ma78Gy-"
      }
    },
    {
      "cell_type": "code",
      "source": [
        "import React from 'react';\n",
        "\n",
        "function App() {\n",
        "  let likes = 0;\n",
        "  return (\n",
        "    <div className=\"App\">\n",
        "          <h1>{likes}</h1>\n",
        "        <button onClick={() => likes +=1}>Increment</button>\n",
        "        <button onClick={() => likes -=1}>Decrement</button>\n",
        "\n",
        "    </div>\n",
        "  );\n",
        "}\n",
        "\n",
        "export default App;"
      ],
      "metadata": {
        "id": "RUR7vMgp8ZX3"
      },
      "execution_count": null,
      "outputs": []
    },
    {
      "cell_type": "markdown",
      "source": [
        "Получилось вот такое:"
      ],
      "metadata": {
        "id": "sEWxkqgI8bLd"
      }
    },
    {
      "cell_type": "markdown",
      "source": [
        "![image.png](data:image/png;base64,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)"
      ],
      "metadata": {
        "id": "LSJfRO4q8ru9"
      }
    },
    {
      "cell_type": "markdown",
      "source": [
        "* Но лайки пока не прибавляются и не уменьшаются"
      ],
      "metadata": {
        "id": "3i9mnqCC8wJF"
      }
    },
    {
      "cell_type": "markdown",
      "source": [],
      "metadata": {
        "id": "fK5rc7Ny80ok"
      }
    },
    {
      "cell_type": "markdown",
      "source": [],
      "metadata": {
        "id": "30uFpoJS8bPi"
      }
    }
  ]
}