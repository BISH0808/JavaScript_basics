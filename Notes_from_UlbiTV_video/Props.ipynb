{
  "nbformat": 4,
  "nbformat_minor": 0,
  "metadata": {
    "colab": {
      "provenance": [],
      "authorship_tag": "ABX9TyNK/8Pgp4+da3l0n11935qa",
      "include_colab_link": true
    },
    "kernelspec": {
      "name": "python3",
      "display_name": "Python 3"
    },
    "language_info": {
      "name": "python"
    }
  },
  "cells": [
    {
      "cell_type": "markdown",
      "metadata": {
        "id": "view-in-github",
        "colab_type": "text"
      },
      "source": [
        "<a href=\"https://colab.research.google.com/github/BISH0808/JavaScript_basics/blob/main/Notes_from_UlbiTV_video/Props.ipynb\" target=\"_parent\"><img src=\"https://colab.research.google.com/assets/colab-badge.svg\" alt=\"Open In Colab\"/></a>"
      ]
    },
    {
      "cell_type": "markdown",
      "source": [
        "# Props, Аргументы компонента"
      ],
      "metadata": {
        "id": "YbsFpqcSUP-k"
      }
    },
    {
      "cell_type": "markdown",
      "source": [
        "* Создадим компонет PostItem:"
      ],
      "metadata": {
        "id": "Q_tKJmiPoACj"
      }
    },
    {
      "cell_type": "code",
      "execution_count": null,
      "metadata": {
        "id": "Q3GqPIWcT0xv"
      },
      "outputs": [],
      "source": [
        "import React from 'react'\n",
        "\n",
        "function PostItem() {\n",
        "  return (\n",
        "    <div className = \"post\">\n",
        "        <div className = \"post__content\">\n",
        "          <strong>1. Javascript </strong>\n",
        "          <div>\n",
        "            Javascript - язык программирования\n",
        "          </div>\n",
        "          <div className=\"post__btns\">\n",
        "            <button>Удалить</button>\n",
        "          </div>\n",
        "        </div>\n",
        "      </div>\n",
        "\n",
        "  )\n",
        "}\n",
        "\n",
        "export default PostItem\n"
      ]
    },
    {
      "cell_type": "markdown",
      "source": [
        "* Изменим App:"
      ],
      "metadata": {
        "id": "12eAYEixoIzq"
      }
    },
    {
      "cell_type": "code",
      "source": [
        "import React, {useState} from 'react';\n",
        "import Counter from './components/Counter';\n",
        "import ClassCounter from './components/ClassCounter';\n",
        "import './styles/App.css'\n",
        "import PostItem from './components/PostItem';\n",
        "\n",
        "function App() {\n",
        "\n",
        "const [value, setValue] = useState('ТЕКСТ В ИНПУТЕ')\n",
        "\n",
        "\n",
        "  return (\n",
        "    <div className=\"App\">\n",
        "      <PostItem/>\n",
        "      <PostItem/>\n",
        "    </div>\n",
        "  );\n",
        "}\n",
        "\n",
        "export default App;\n",
        "\n"
      ],
      "metadata": {
        "id": "ie5QqdffoMjS"
      },
      "execution_count": null,
      "outputs": []
    },
    {
      "cell_type": "markdown",
      "source": [
        "* Теперь страница будет выглядет так:"
      ],
      "metadata": {
        "id": "8HUR-GGXoONy"
      }
    },
    {
      "cell_type": "markdown",
      "source": [
        "![image.png](data:image/png;base64,iVBORw0KGgoAAAANSUhEUgAABCoAAADkCAYAAABe+MUdAAAgAElEQVR4Ae3dv2sj17//8fkTVLhQGcEWa7hFDCnWkAQs2CKGLSLY4gq2+HycFGZwEUwCiwjksxEpFhHuXZQU+Zot9oO3yEUuwvUWAaUJOISAUywoXALeIoWKLVSkUOHi/eX8mjlzNLIlWdZK42dgs5atOXPOY44XzkvvORMJ/yGAAAIIIIAAAggggAACCCCAAAJLIhAtST/oBgIIIIAAAggggAACCCCAAAIIICAEFUwCBBBAAAEEEEAAAQQQQAABBBBYGgGCiqW5FHQEAQQQQAABBBBAAAEEEEAAAQQIKpgDCCCAAAIIIIAAAggggAACCCCwNAIEFUtzKegIAggggAACCCCAAAIIIIAAAggQVDAHEEAAAQQQQAABBBBAAAEEEEBgaQQIKpbmUtARBBBAAAEEEEAAAQQQQAABBBAgqGAOIIAAAggggAACCCCAAAIIIIDA0ggQVCzNpaAjCCCAAAIIIIAAAggggAACCCBAUMEcQAABBBBAAAEEEEAAAQQQQACBpREgqFiaS0FHEEAAAQQQQAABBBBAAAEEEECAoII5gAACCCCAAAIIIIAAAggggAACSyNAULE0l4KOIIAAAggggAACCCCAAAIIIIAAQQVzAAEEEEAAAQQQQAABBBBAAAEElkaAoGJpLgUdQQABBBBAAAEEEEAAAQQQQAABggrmAAIIIIAAAggggAACCCCAAAIILI0AQcXSXAo6ggACCCCAAAIIIIAAAggggAACVw4qoi++EP5gwBxgDjAHmAPMAeYAc4A5wBxgDjAHmAPMgTc7B4oScRBUELQQNDEHmAPMAeYAc4A5wBxgDjAHmAPMAeZAAeYAQYUVcIlZUUAYBwIIIIAAAggggAACCCCAAAKrJFC0dfncKipW6SLSVwQQQAABBBBAAAEEEEAAAQSKIkBQEVzJooEEw+MlAggggAACCCCAAAIIIIAAAkstULR1ORUVSz3d6BwCCCCAAAIIIIAAAggggAACFwsQVAQ+RQMJhsdLBBBAAAEEEEAAAQQQQAABBJZaoGjr8musqOhIHEVSfdy74gU17URRJKN/YulcsfVVOLz3uGrGvnsTRrsKV4Q+IoAAAggggAACCCCAAALLI0BQEVyLEZCjOBMoXD2ocCf0A4uqtF667xf97560tlxIc9VgpiMxYUfRJwzjQwABBBBAAAEEEEAAgRsmMLIuX/Hxz7WiIvnk36t+IKi4+gxxrle17OxGEhFUXP2C0AICCCCAAAIIIIAAAgggsEQCBBXBxcgF8aoqrrq4Tk93UysqUoGrfKVDChUgEVRchZFjEUAAAQQQQAABBBBAAIGlE8hdly9dLyfv0FwrKpLTvpGgwg8yzK0S8ZHr0ejPosjeRuH1NbuIHz0mbS+n3a2W9F62JB7ZkyNsx7t942VLqiPVJ+n7q4//17vtI5JInUNEXIWF27MjfpxtJ9vPtD33fv03gYW7iPyNAAIIIIAAAggggAACCKy0AEFFcPlyQbzF/0IqKuz53AI9qR6I/L0s/AW7/30RUcf7C/eJ2nN7R9jgwYYOmfEmQYQ5XxIw2MBBU2asWhJHsbQym2d6/faOS9pSQYf7fnK+SJyFvOzpACUJRPxxBteSlwgggAACCCCAAAIIIIAAAqsnkLsuX71hJD0uREVFEkzkVBwkC3Y15EwokD6NpLPrVTmIyGTtpQFCco6goiJpx4UDLkhwwULQp6TKIxN6pOdJAomgqiI5v7jwxAsv1Dncebn1I5n4fIEAAggggAACCCCAAAIIFEWAoCK4krkgYwKB4NApX3oL9kylhHcrxGVBhb+Qd7d+yOiTMJJqhQvb80IBv6ohGZXXXxdUJD/zvvCsMlUdyVu8dryAI+lj5FVP+CFLMj6CioSSLxBAAAEEEEAAAQQQQACBAgrkrstXeJyFqKhI/b1Fvd37Ia02MO8KF/i9x/EFjzq9rL0grPADlEmrGLygInPbSDIorw9TBRXe7S2T9iU5J18ggAACCCCAAAIIIIAAAgisigBBRXClckEuXXwHjeS8TAKFZHHuLdj9QEAfmwYGKphIjg2qDfRbM4v2lrR2zQaV2S5M0V5wG0Z4+4beuDIZQ/Ys+tWlVt64vXbGjTG53YSKihxsvoUAAggggAACCCCAAAIIFE8gd12+wsN8AxUVaQiQf6uD0RxdcHsLdn8R7t/OYRfy4xbx7jqlbWdvmzA/9/p3YXsdib3gIN0HwlUyeO2MBCuuJ+P3zUjf4Y3bO1/+GL1zeu9N+8bjSVNXvkIAAQQQQAABBBBAAAEEiiFAUBFcxzwQfxE9Ekb4FQ2ZwCFo2FYaJLdDjK088Bbyur2OtLaq4h7FGd76oc+StJXdRNP0YNL2bCjg9p9w4/IDguQ8/uaW6jjvvN57krFmKML+mB9mjN05XR9GKkm8NvR7O9IaeYxq5qS8QAABBBBAAAEEEEAAAQQQWBGBvHX5inQ9t5tzrajILJ7tHhEuMEgX4d6n/m6Rn9u1YBPIMXtOqEOz51UhgHeOkUW7PkJaW5Gkfcp2YLL2eua2ES9oSG778JvzwgNj4Sou8seXDXay4/BvI/H7GD9uSfL40dzxZis3cvvp95mvEUAAAQQQQAABBBBAAAEEVkaAoCK4VEUDCYa3tC8zQcXR0naTjiGAAAIIIIAAAggggAACCFyzQNHW5XOtqLhme5r3BAgqPAy+RAABBBBAAAEEEEAAAQRusABBRXDxiwYSDG9pXxJULO2loWMIIIAAAggggAACCCCAwEIFirYup6JiodNnPifzQwq3B0h2b4v5nIdWEEAAAQQQQAABBBBAAAEEll+AoCK4RkUDCYbHSwQQQAABBBBAAAEEEEAAAQSWWqBo63IqKpZ6utE5BBBAAAEEEEAAAQQQQAABBC4WIKgIfIoGEgyPlwgggAACCCCAAAIIIIAAAggstUDR1uVUVCz1dKNzCCCAAAIIIIAAAggggAACCFwsQFAR+BQNJBgeLxFAAAEEEEAAAQQQQAABBBBYaoGircupqJh1ur06kFq5JBufd2dtgeMQQAABBBBAAAEEEEAAAQQQuLIAQUVAmAXpSBxFkjwy03292wmOKsBLgooCXESGgAACCCCAAAIIIIAAAgisvkB2XV6A8Vx1CHkg/ec7UlEhxa0dOexf9QxFPf5M2k8KGOAU9XIxLgQQQAABBBBAAAEEEEBgSQXy1uVL2tWJunU9t368bElVBRVbLelN1I0b+KZfGrJZxEqTG3gpGTICCCCAAAIIIIAAAggg8CYFCCoC/VwQgopAKXj5uiPx7UgigooAhpcIIIAAAggggAACCCCAAALTCuSuy6dtZInev9iKij87En+wLmW7d0X59rY0XgwsR7i/RVVaL+2PjuJ03wu3uL+wLXXcQE4e12WjrPbMKMv6Vk22/xFUeAx7cri3Lev6PSWp3KlL62fbn2FfTp63ZOduRUq7HRm8aEi1HEn5XktO/+7LydOm1O9WpPrY1oycD6V31JL4ww0pqz6q/qljo0jK79Sl/dvQDOblgdRUSOH275h35cnrE2k9qNoxBedR/TqKpXLb9Ev3obwu23sdOTs33evsBsdEsfg3qIz8XFXNuGDKG1N8JCKvj6WxVdb+9af59wD1HlezFl4bvlH8PxP62ikj533pPtmR6lsl3X7prU2pPUzHKTl9Ts9XkvgHkeHLjrT2arJRjqVzfiadvapU1iKJyhtSf3Iq9oqaM14yH323yifHrpfp3781ZVONfa0q+09P5CzTv21pv0rfar4ayOEDM7b1By05fjmQEUtd0dST1lb2mqprM9XYRKT/U9v8Lug+VmTzw4Z0/kz75I8vdSzL+gdx5n3692LsvwEiI+2oOZuxUGNR/zaE/15Eouec/2+F6qtX1XX2fSzbb3tzP5lr3r816ZD4CgEEEEAAAQQQQACBlREgqAguVS6IW1h4iwQ578r+7UgqHx9KXy2Kh6fSvFuSaE0tAm2j/a401PeiTWn+Fpzoh1jfKqGPnaCtwfO6lLYa0tXr46H0j/Zl0++Pqmp4uyzVz7vSVyvO4Yk07qiFYk0vCgf9M+n/2DCLx3s1ifda0ry/LtFaXf7f/51J/8W+bERRGlT83Zf+z01zy8v9WOIPY2k/P5T2XtUEM7ZdMyq7eHShSzDU2V/25eC+8luX+HnfLKT1wq0kSVBwFEvpbkO6f+lBS++7ut5PZP1h+vSS069MeFB76kKkbI+GP5mxb3zaTRfrw2OJb0USvb0vXbuCP/60JvtP29Lc25eD37Nt+K+GP8S6D0noY3+oF61rdTl8LSJT+Q6ks7tuxqmuvwqRntZlPYqkdLclp26+nZ9J655a+GbDmOEvTYn/6w/p/3UiTb3IV9e/JvG3h3L4bawDqygqSe3bM9PTCeajeuPZ19tSuVXRc+gwoD3+dF2HWpkqG2V6p6JtNh+d+mQir9pSW1PXOrvIdpbZa+PmtrU8H04+NhX5HcWyvlaVxk8mbBq+PJC6CtvWqtLyrqsanwopdGAgQxn83JKamhN3mqJ7P4WTaicz/9z8utOQk5HrV5MDLwfrP61ry83PT1Kznxr2+jfl5G/1bfs7qNrLJE7pIXyFAAIIIIAAAggggMCqCOSuy1el8zn9XFxFxaAjO+WS1L5LVxTmE+DsQkte7OuF2fYTuwi0nT7+pJ5+qjxBW7rt+wfirwePn7STPTO6D9fTBZQ9R/fzDSmt+SGJ/dQ2aEe//a+21PygQn8zfb8OVGy7buG/kSycriuo6Mq+Whj6C28dVHjGR81sCHTekR21gN/zPuUPj7HjSP6yQVQ2WLBjcmHQ4FB29vxajOTo0S9y27Ofrrv29FGT+aqFdSUn7Dr5fFN0wODNQfMJfjao8Dtofp5dCMvvNpB6uyF6KTzBfNRtHsUSPzKVE5n5PTiU+NN9fR0yQYVaTO82pKkqJ27ty7FboIvI6aNY9j9RgZJ3bdVJ8ixfd6WhApeMpateuHxsKoAaCUrUHitq3tw/kOQ32lYzmKDCKHY+9ubjFE5p4OGuRv7vTN71U+GbCqX8fvS/rekQJZ2z+e25s/E3AggggAACCCCAAAKrJEBQEVytXJC8igrvOF12/rEtow8XWnImbfUp9+196bqFmfr0+B+HmdDBNTe2rZdt2S6XZOM/m9L5I/zI9EQab0+yR4RdGOdWPpifpQsf1aMx7x8cSl2Vmd9tiYlfrm+RdPq4KqWopCtFztQnxxeFDsO+dD7ZlOh2TdreJ+MXHqOGmbcYdp9Qq8XwsC+Hu9vS+MVdpUv+zm3vgqAivB6Bb2dXVRrkhA+/29srHqRzKW+h6/c2/+fqtgt7C4J3+4M6bux8VD9UQcWRnd+uykBVWjyJpflb3txRQUVLTnV4V5L6cxu7nR/L/t6hnOjbZi4JKl4fS/tpz9xSkRtUhE7B2FQFTrDoNz6n0nxXGdQlqQ7JBBVDXZFUXSvJxt7xyO/uZU6zBhWnT9ty/LPZzNcPKsTtC3O7Lge/D2To5ms4l/yLz9cIIIAAAggggAACCKyIQO66fEX6ntfNxVVUqLP3j6VxtyKVrR1pHfXkRN9iECy0VKm5um0jKkn9mVmYnT6qZasAJm2rfyoHel+BklTuxnKYBBZ5i8I8noveZ342UVDhAoxkoThhUOECn+Re+tFPxUd7PZTe832p6soKtZC0C2q334c7wC4qo/+oS/sne5tI+DN33rWKbHywI223f0dusGDH5I4pV739R1zDY/7ObW+KoCLj6/oRLsDVue31TK6DqyrIe6/pa35Q4Y7z5u4kc1sHFW5+V2T/hTrHqTR323Lm+pZZOJugoqfeo25Luqfep46P9bG5FUm+5esTOfzB7KGix+GNW2vo/UhGx27GbMbm9r3ILPoNjd1PwjNwc8rNgSgSvX9G8ns34b8BOe2YeTwaLvrX5+yHQ+mq24SswUif+11pP1BVNe73YrQ9OzT+QgABBBBAAAEEEEBgpQQIKoLLlQtiFwrRx17p/6sDqZUjqT5KNyHMXWjp9u3CTN0//vpQdu6bBVpy6qnaUvsb9OTgH+q2jg1p/KhasRUVQTm9bv/8WNrfudtO5htUqE05zX8TBhWDnhw/P5RD/8+L3sin07bR5C+9p4C6LeWr00sqKgZy+jyWzbVI1tWGoa4FvVBMF6DpngRm/w63EMyGNHZMWy05/b0lVbXpZLCHgWt+5G9/ce39cHRxPe56mO8bX1cRsJFT0WHf593m4i90vVMnX477uf6+219l0vlogwpRFRG3Iil92JazF/sS60qJvLG5oEJVXaj9H9Zl/8czae+aPR9yf3+c5aOOdJ6fJNd01NKFLWOCCju2wbO6Xtinty0lNCaoWIsluWnIBgwuIBi+snvOuN+7KZymq6jYkYMfD+XYVbeMCyrOT6Wl9sC5tSOd1xP+DqbD5SsEEEAAAQQQQAABBJZWIHddvrS9vbxj11pR4S9uzD3im9L0bjHIXWjZPqsFkr6F4W7NfvKcDmaStnpfN8wmjMlhJpxwi+vjTyp6vwK1mE9vDBnIycP9dC+M3E+5bYN2bwfXnvlu3mJTRPQTHbzS/essO7chQbJpZBA6JBzJFzkVCDnHnH5lPonWi1C3GHZPPNFtpUGF+gy/97W6BSXYvDI5Z/BFbntTVFQEvqYiJ5L1T9MNQvUZf2nIRuQqGUwfxgURrof5PzdBWsneQjLJfNTtuaBC+ejbNjZl857beyJv7qRBhQw6erPS0rubEtv9W3J/f6xl5WMveFK1JKp6YqKKiuzYRN1Wo0In/1YsPRjz+5R5gkkQVLgxq9BB/Z5M4zRdUFHN/LvigjQXmJhraTZY1RvNHqlIjqDCuPB/BBBAAAEEEEAAgSIIEFQEV9GBmIXputSfnsnw54ZsqE/T/dsN7L3u6w8O5PSvnpw83ZfaHRUWbMj+ixM5eBY81cB+6pw8McA/7wRtqUVc+V5Tuq9MDDH8rSnqfvnkPn/76a7aXLFyty7x3o7U3qnI5qP0SQH6GFUmvtWU0zTN0D1xT74oPTgwTzHR37WLTfWEhB/N7RTDv8ynyuX7B3Z/CvVGu0i6tSOHf5zKwcO2eSqCP8ZZvv7zMH0ag7YfyslDs4GkeerHQI4fxdI8OpW+fvKBeuxkw1Q/eHsmmE0n0+vnV1Qc/JWW1mdCmmFHdtSC9t2mfapGz3x6rcr/dzue0ejAht/v6FAj+6SKruyrfUTcUz/0YVP46qfHqPnYk6Ha6+TvE/2UmUzliHryjH2qh//UCL+HJqgwe36Yp8P0pft5VUrlmhy4R4ZOMB9Vm2pT1e2vbbWODQCSTSr7B3pz1uheK3lUrCjT27Ec27l3+mjTe2LIULqfbkgUVST+IZ2ck1u6iopLxuaFTup3t6fmzflQ37ZVuh1LR91qYf9zm8a6gGD4+lQOHphAUP/eTeGkggp/4115bQMT/ykd5/nXr/+d2TgzferHQE7UNVNz0e2X0T8wAYzfnhsIfyOAAAIIIIAAAgggsGICbl2+Yt0e2925VVQMfmlK7S21iWFJKnfq0v4tXTyZsw+ks7ehH9VZeqsmTbUvwo8q0FAbXrbTR0Z6XT17UkuDBe/7Ipe31fu6JhvvbEhFLZ7VJ/tvVSV+3vOqJ0Tkz47EH6ybx4eWN6T+OC2VN59We/eye5t+jvws+aTaLqTvxRLfreiFUVRel+29Trr4tONQt2dsrEVSfqee3cgyM84pXthP0pW/29vDLLK9MehbT9QeFrFs3y6be/XXKrL5YVOO7aMbRo5RQY3eo8Ls8XH286G0d011RendWNrqVpTk3Om59GLVLS71ngCjtxio0eVbWkdvLwGz+J3cV87PpPOwJhtl06fy7W3ZedJNA5NxfQ7Ijce2xHqvE9VWWdY/iKXjbjPQ7798PmZc7S1AyZNsbCWCmqfmTyydTP9saPSqLfVP1I0WrgrGvd9ULISWJkgaZ+mCisvGZkDOvm9I7R07Z9Sc/rhtH/1rfp4ZXzKOsqxv1aSR/N5N6aTaUVYZCzVm5RGOy8yv0EBVkfy33otDPSbVPto0t73gwvMSAQQQQAABBBBAAIEVEiCoCC5W0UCC4U350i6ekr0opjyct18isHhfswDPD1ku6ezS/7jIY1t6fDqIAAIIIIAAAggggMAcBYq2Lp9bRcUcjVe4qcUvpFcYa4auL963yIv5Io9thsnFIQgggAACCCCAAAIIrKwAQUVw6YoGEgxvqpfJnhb3/X0rpmqCN18gsHDfCfawuKC7y/2jIo9tueXpHQIIIIAAAggggAACcxco2rqcioo5TZGRe+O9PS3mdIob3czCfUf2MTD7QBTiIhR5bIW4QAwCAQQQQAABBBBAAIHpBAgqAq+igQTD4yUCCCCAAAIIIIAAAggggAACSy1QtHU5FRVLPd3oHAIIIIAAAggggAACCCCAAAIXCxBUBD4OpN/vyzfffCOfffbZjf6jDJQF/yGAAAIIIIAAAggggAACCCCwCAG3Ll/EuRZxjrlVVKgFerfblcFgcKP/KANlwX8IIIAAAggggAACCCCAAAIILEKAoCJQdiCqkuKmhxRu/MqC/xBAAAEEEEAAAQQQQAABBBBYhIBbly/iXIs4x9wqKggq0koSgopFTF3OgQACCCCAAAIIIIAAAgggoAQIKoJ54EAIKggqgqnBSwQQQAABBBBAAAEEEEAAgQUIuHX5Ak61kFPMvaLi2T8jiaKP5NnYvSqeyUdRJNE/nxX2VhEqKhYydzkJAggggAACCCCAAAIIIIAAFRWjc8AlN2lFhQki3v/Xr/lBxL8/kih6X748SSsQ3N4ORfmboGJ0nvAdBBBAAAEEEEAAAQQQQACB6xFw6/LraX3xrc69okKFDb/+6/0xYcSv8uV7xa6mUOMnqFj8ROaMCCCAAAIIIIAAAggggMBNFSCoCK68A0krKlSlxJhAIqym0K/VrSLBn/e+lF+9W0dM8OG/J6zIsOcL29Gv3Xvz++Ta/ujfLmDxz+N/rW5nyW8jrAQhqAgmCS8RQAABBBBAAAEEEEAAAQSuTcCty6/tBAtu+FoqKvTCPQwl8hb5+j3Z/Sz0HhdeUGGChJz3ZPbByA8QspUdOe85+VLet+GGCir8wCHvvGMDGC9UoaJiwTOY0yGAAAIIIIAAAggggAACN1yAoCKYAA4kW1HhVVW40GEkuBjIQH3P/dwu9rNBxZj9LmzAkIYLOSHEyC0o4Xvs6/fe12FF2pYJLAgqggvNSwQQQAABBBBAAAEEEEAAgaUUcOvypezcDJ26vooKFTwkgUIYEnhhwIVBRbbKwTxRJL0dIw0XLmg/2bgzeI+r5kj6mD0XQcUMs4lDEEAAAQQQQAABBBBAAAEEFi5AUBGQO5DRigqz8E/DBbdXRBoI6J8FjynNVlSE+0bYNkbChSCEsNUZ42/98Co1Rtoy/bswqBjZCyN7awp7VASThJcIIIAAAggggAACCCCAAALXJuDW5dd2ggU3fL0VFTowMKFAFAQSbr+H8DGmmaDChgjhe9JKDRd6TBdU6BDCVXLMElRkxmLP7e2ZQVCx4FnM6RBAAAEEEEAAAQQQQACBGyxAUBFcfAcyrqJC70PhLeKTDSt1QDCmysKFCPr2jEjSWzz8agf/+1MEFeGeFFcOKuxeG8ktJjyeNJgivEQAAQQQQAABBBBAAAEEELhGAbcuv8ZTLLTpa66oMAHCSEWE2+jSBRL2Vg0VYuRVVGSqMWywoB5pmgYYUwQV6rYNvyLiykEFFRULnbGcDAEEEEAAAQQQQAABBBBAICNAUJHhEHEgmYoKWwmhwoTwqR5JGDGyz0O6SaY+zoUJXjChv6+rM9LbScxeEurY0eqM3D0qwvfNElSM9J09KoJpwUsEEEAAAQQQQAABBBBAAIEFCbh1+YJOd+2nueaKCreHRPbvvE00k1tCXLWFCyq8agv/Pcv8NXtUXPu85QQIIIAAAggggAACCCCAAAJWgKAimAoOJFNRcUm4QFARIPISAQQQQAABBBBAAAEEEEAAgRkF3Lp8xsOX7jAqKi4JVWap3KCiYunmOR1CAAEEEEAAAQQQQAABBAorQFARXFoHMk1FxSyL/1U6hqAimCS8RAABBBBAAAEEEEAAAQQQuDYBty6/thMsuOE3UlGxSqHDLH0lqFjwLOZ0CCCAAAIIIIAAAggggMANFiCoCC6+A/nmm2+k2+3KLAv7Ih2jDJQF/yGAAAIIIIAAAggggAACCCCwCAG3Ll/EuRZxjrlVVPT7fb1AV9UEN/mPCimUBf8hgAACCCCAAAIIIIAAAgggsAgBgopA2YHw9xeCAQbMAeYAc4A5wBxgDjAHmAPMAeYAc4A58KbmQLBcX9mXc6uoeFMXgvPyjwBzgDnAHGAOMAeYA8wB5gBzgDnAHGAOMAe+WNlgIuz4lYOKsEFeI4AAAggggAACCCCAAAIIIIAAArMKEFTMKsdxCCCAAAIIIIAAAggggAACCCAwdwGCirmT0iACCCCAAAIIIIAAAggggAACCMwqQFAxqxzHIYAAAggggAACCCCAAAIIIIDA3AUIKuZOSoMIIIAAAggggAACCCCAAAIIIDCrAEHFrHIchwACCCCAAAIIIIAAAggggAACcxcgqJg7KQ0igAACCCCAAAIIIIAAAggggMCsAgQVs8pxHAIIIIAAAggggAACCCCAAAIIzF2AoGLupDSIAAIIIIAAAggggAACCCCAAAKzChBUzCrHcQgggAACCCCAAAIIIIAAAgggMHcBgoq5k9IgAggggAACCCCAAAIIIIAAAgjMKkBQMascxyGAAAIIIIAAAggggAACCCCAwNwFCCrmTkqDCCCAAAIIIIAAAggggAACCCAwqwBBxaxyHIcAAggggAACCCCAAAIIIIAAAnMXIKiYOykNIoAAAggggAACCCCAAAIIIIDArAIEFbPKcRwCCCCAAAIIIIAAAggggAACCMxdgKBi7qQ0iIWwiBEAACAASURBVAACCCCAAAIIIIAAAggggAACswoQVMwqx3EIIIAAAggggAACCCCAAAIIIDB3AYKKuZPSIAIIIIAAAggggAACCCCAAAIIzCpw5aAi+uIL4Q8GzAHmAHOAOcAcYA4wB5gDzAHmAHOAOcAceLNzYNZgYNmOI6ggaCFoYg4wB5gDzAHmAHOAOcAcYA4wB5gDzIECzIFlCxxm7c/cgopZO8BxCCCAAAIIIIAAAggggAACCCAwu4CrZJm9heU6kqBiua4HvUEAAQQQQAABBBBAAAEEEEBgKgGCioCraCDB8HiJAAIIIIAAAggggAACCCCAwFILFG1dTkXFUk83OocAAggggAACCCCAAAIIIIDAxQIEFYFP0UCC4fESAQQQQAABBBBAAAEEEEAAgaUWKNq6/BorKjoSR5FUH/eueEFNO1EUyeifWDpXbH0VDu89rpqx796E0a7CFaGPCCCAAAIIIIAAAggggMDyCBBUBNdiBOQozgQKVw8q3An9wKIqrZfu+0X/uyetLRfSXDWY6UhM2FH0CcP4EEAAAQQQQAABBBBA4IYJjKzLV3z8c62oSD7596ofCCquPkOc61UtO7uRRAQVV78gtIAAAggggAACCCCAAAIILJEAQUVwMXJBvKqKqy6u09Pd1IqKVOAqX+mQQgVIBBVXYeRYBBBAAAEEEEAAAQQQQGDpBHLX5UvXy8k7NNeKiuS0bySo8IMMc6tEfOR6NPqzKLK3UXh9zS7iR49J28tpd6slvZctiUf25Ajb8W7feNmS6kj1Sfr+6uP/9W77iCRS5xARV2Hh9uyIH2fbyfYzbc+9X/9NYOEuIn8jgAACCCCAAAIIIIAAAistQFARXL5cEG/xv5CKCns+t0BPqgcify8Lf8Huf19E1PH+wn2i9tzeETZ4sKFDZrxJEGHOlwQMNnDQlBmrlsRRLK3M5plev73jkrZU0OG+n5wvEmchL3s6QEkCEX+cwbXkJQIIIIAAAggggAACCCCAwOoJ5K7LV28YSY8LUVGRBBM5FQfJgl0NORMKpE8j6ex6VQ4iMll7aYCQnCOoqEjaceGACxJcsBD0KanyyIQe6XmSQCKoqkjOLy488cILdQ53Xm79SCY+XyCAAAIIIIAAAggggAACRREgqAiuZC7ImEAgOHTKl96CPVMp4d0KcVlQ4S/k3a0fMvokjKRa4cL2vFDAr2pIRuX11wUVyc+8LzyrTFVH8havHS/gSPoYedUTfsiSjI+gIqHkCwQQQAABBBBAAAEEEECggAK56/IVHmchKipSf29Rb/d+SKsNzLvCBX7vcXzBo04vay8IK/wAZdIqBi+oyNw2kgzK68NUQYV3e8ukfUnOyRcIIIAAAggggAACCCCAAAKrIkBQEVypXJBLF99BIzkvk0AhWZx7C3Y/ENDHpoGBCiaSY4NqA/3WzKK9Ja1ds0FltgtTtBfchhHevqE3rkzGkD2LfnWplTdur51xY0xuN6GiIgebbyGAAAIIIIAAAggggAACxRPIXZev8DDfQEVFGgLk3+pgNEcX3N6C3V+E+7dz2IX8uEW8u05p29nbJszPvf5d2F5HYi84SPeBcJUMXjsjwYrryfh9M9J3eOP2zpc/Ru+c3nvTvvF40tSVrxBAAAEEEEAAAQQQQACBYggQVATXMQ/EX0SPhBF+RUMmcAgatpUGye0QYysPvIW8bq8jra2quEdxhrd+6LMkbWU30TQ9mLQ9Gwq4/SfcuPyAIDmPv7mlOs47r/eeZKwZirA/5ocZY3dO14eRShKvDf3ejrRGHqOaOSkvEEAAAQQQQAABBBBAAAEEVkQgb12+Il3P7eZcKyoyi2e7R4QLDNJFuPepv1vk53Yt2ARyzJ4T6tDseVUI4J1jZNGuj5DWViRpn7IdmKy9nrltxAsakts+/Oa88MBYuIqL/PFlg53sOPzbSPw+xo9bkjx+NHe82cqN3H76feZrBBBAAAEEEEAAAQQQQACBlREgqAguVdFAguEt7ctMUHG0tN2kYwgggAACCCCAAAIIIIAAAtcsULR1+VwrKq7ZnuY9AYIKD4MvEUAAAQQQQAABBBBAAIEbLEBQEVz8ooEEw1valwQVS3tp6BgCCCCAAAIIIIAAAgggsFCBoq3LqahY6PSZz8n8kMLtAZLd22I+56EVBBBAAAEEEEAAAQQQQACB5RcgqAiuUdFAguHxEgEEEEAAAQQQQAABBBBAAIGlFijaupyKiqWebnQOAQQQQAABBBBAAAEEEEAAgYsFCCoCn6KBBMPjJQIIIIAAAggggAACCCCAAAJLLVC0dTkVFUs93egcAggggAACCCCAAAIIIIAAAhcLEFQEPkUDCYbHSwQQQAABBBBAAAEEEEAAAQSWWqBo63IqKmadbq8OpFYuycbn3Vlb4DgEEEAAAQQQQAABBBBAAAEErixAUBEQZkE6EkeRJI/MdF/vdoKjCvCSoKIAF5EhIIAAAggggAACCCCAAAKrL5BdlxdgPFcdQh5I//mOVFRIcWtHDvtXPUNRjz+T9pMCBjhFvVyMCwEEEEAAAQQQQAABBBBYUoG8dfmSdnWibl3PrR8vW1JVQcVWS3oTdeMGvumXhmwWsdLkBl5KhowAAggggAACCCCAAAIIvEkBgopAPxeEoCJQCl6+7kh8O5KIoCKA4SUCCCCAAAIIIIAAAggggMC0Arnr8mkbWaL3L7ai4s+OxB+sS9nuXVG+vS2NFwPLEe5vUZXWS/ujozjd98It7i9sSx03kJPHddkoqz0zyrK+VZPtfwQVHsOeHO5ty7p+T0kqd+rS+tn2Z9iXk+ct2blbkdJuRwYvGlItR1K+15LTv/ty8rQp9bsVqT62NSPnQ+kdtST+cEPKqo+qf+rYKJLyO3Vp/zY0g3l5IDUVUrj9O+ZdefL6RFoPqnZMwXlUv45iqdw2/dJ9KK/L9l5Hzs5N9zq7wTFRLP4NKiM/V1UzLpjyxhQficjrY2lslbV//Wn+PUC9x9WshdeGbxT/z4S+dsrIeV+6T3ak+lZJt196a1NqD9NxSk6f0/OVJP5BZPiyI629mmyUY+mcn0lnryqVtUii8obUn5yKvaLmjJfMR9+t8smx62X6929N2VRjX6vK/tMTOcv0b1var9K3mq8GcvjAjG39QUuOXw5kxFJXNPWktZW9puraTDU2Een/1Da/C7qPFdn8sCGdP9M++eNLHcuy/kGceZ/+vRj7b4DISDtqzmYs1FjUvw3hvxeR6Dnn/1uh+upVdZ19H8v2297cT+aa929NOiS+QgABBBBAAAEEEEBgZQQIKoJLlQviFhbeIkHOu7J/O5LKx4fSV4vi4ak075YkWlOLQNtovysN9b1oU5q/BSf6Ida3SuhjJ2hr8Lwupa2GdPX6eCj9o33Z9PujqhreLkv186701YpzeCKNO2qhWNOLwkH/TPo/Nszi8V5N4r2WNO+vS7RWl//3f2fSf7EvG1GUBhV/96X/c9Pc8nI/lvjDWNrPD6W9VzXBjG3XjMouHl3oEgx19pd9Obiv/NYlft43C2m9cCtJEhQcxVK625DuX3rQ0vuurvcTWX+YPr3k9CsTHtSeuhAp26PhT2bsG59208X68FjiW5FEb+9L167gjz+tyf7TtjT39uXg92wb/qvhD7HuQxL62B/qRetaXQ5fi8hUvgPp7K6bcarrr0Kkp3VZjyIp3W3JqZtv52fSuqcWvtkwZvhLU+L/+kP6f51IUy/y1fWvSfztoRx+G+vAKopKUvv2zPR0gvmo3nj29bZUblX0HDoMaI8/XdehVqbKRpneqWibzUenPpnIq7bU1tS1zi6ynWX22ri5bS3Ph5OPTUV+R7Gsr1Wl8ZMJm4YvD6Suwra1qrS866rGp0IKHRjIUAY/t6Sm5sSdpujeT+Gk2snMPze/7jTkZOT61eTAy8H6T+vacvPzk9Tsp4a9/k05+Vt92/4OqvYyiVN6CF8hgAACCCCAAAIIILAqArnr8lXpfE4/F1dRMejITrkkte/SFYX5BDi70JIX+3phtv3ELgJtp48/qaefKk/Qlm77/oH468HjJ+1kz4zuw/V0AWXP0f18Q0prfkhiP7UN2tFv/6stNT+o0N9M368DFduuW/hvJAun6woqurKvFob+wlsHFZ7xUTMbAp13ZEct4Pe8T/nDY+w4kr9sEJUNFuyYXBg0OJSdPb8WIzl69Ivc9uyn6649fdRkvmphXckJu04+3xQdMHhz0HyCnw0q/A6an2cXwvK7DaTeboheCk8wH3WbR7HEj0zlRGZ+Dw4l/nRfX4dMUKEW07sNaarKiVv7cuwW6CJy+iiW/U9UoORdW3WSPMvXXWmowCVj6aoXLh+bCqBGghK1x4qaN/cPJPmNttUMJqgwip2Pvfk4hVMaeLirkf87k3f9VPimQim/H/1vazpESedsfnvubPyNAAIIIIAAAggggMAqCRBUBFcrFySvosI7Tpedf2zL6MOFlpxJW33KfXtfum5hpj49/sdhJnRwzY1t62Vbtssl2fjPpnT+CD8yPZHG25PsEWEXxrmVD+Zn6cJH9WjM+weHUldl5ndbYuKX61sknT6uSikq6UqRM/XJ8UWhw7AvnU82Jbpdk7b3yfiFx6hh5i2G3SfUajE87Mvh7rY0fnFX6ZK/c9u7IKgIr0fg29lVlQY54cPv9vaKB+lcylvo+r3N/7m67cLeguDd/qCOGzsf1Q9VUHFk57erMlCVFk9iaf6WN3dUUNGSUx3elaT+3MZu58eyv3coJ/q2mUuCitfH0n7aM7dU5AYVoVMwNlWBEyz6jc+pNN9VBnVJqkMyQcVQVyRV10qysXc88rt7mdOsQcXp07Yc/2w28/WDCnH7wtyuy8HvAxm6+RrOJf/i8zUCCCCAAAIIIIAAAisikLsuX5G+53VzcRUV6uz9Y2ncrUhla0daRz050bcYBAstVWqubtuISlJ/ZhZmp49q2SqASdvqn8qB3legJJW7sRwmgUXeojCP56L3mZ9NFFS4ACNZKE4YVLjAJ7mXfvRT8dFeD6X3fF+qurJCLSTtgtrt9+EOsIvK6D/q0v7J3iYS/sydd60iGx/sSNvt35EbLNgxuWPKVW//EdfwmL9z25siqMj4un6EC3B1bns9k+vgqgry3mv6mh9UuOO8uTvJ3NZBhZvfFdl/oc5xKs3dtpy5vmUWziao6Kn3qNuS7qn3qeNjfWxuRZJv+fpEDn8we6jocXjj1hp6P5LRsZsxm7G5fS8yi35DY/eT8AzcnHJzIIpE75+R/N5N+G9ATjtmHo+Gi/71OfvhULrqNiFrMNLnflfaD1RVjfu9GG3PDo2/EEAAAQQQQAABBBBYKQGCiuBy5YLYhUL0sVf6/+pAauVIqo/STQhzF1q6fbswU/ePvz6UnftmgZaceqq21P4GPTn4h7qtY0MaP6pWbEVFUE6v2z8/lvZ37raT+QYValNO89+EQcWgJ8fPD+XQ//OiN/LptG00+UvvKaBuS/nq9JKKioGcPo9lcy2SdbVhqGtBLxTTBWi6J4HZv8MtBLMhjR3TVktOf29JVW06Gexh4Jof+dtfXHs/HF1cj7se5vvG11UEbORUdNj3ebe5+Atd79TJl+N+rr/v9leZdD7aoEJURcStSEoftuXsxb7EulIib2wuqFBVF2r/h3XZ//FM2rtmz4fc3x9n+agjnecnyTUdtXRhy5igwo5t8KyuF/bpbUsJjQkq1mJJbhqyAYMLCIav7J4z7vduCqfpKip25ODHQzl21S3jgorzU2mpPXBu7Ujn9YS/g+lw+QoBBBBAAAEEEEAAgaUVyF2XL21vL+/YtVZU+Isbc4/4pjS9WwxyF1q2z2qBpG9huFuznzyng5mkrd7XDbMJY3KYCSfc4vr4k4rer0At5tMbQwZy8nA/3Qsj91Nu26Dd28G1Z76bt9gUEf1EB690/zrLzm1IkGwaGYQOCUfyRU4FQs4xp1+ZT6L1ItQtht0TT3RbaVChPsPvfa1uQQk2r0zOGXyR294UFRWBr6nIiWT903SDUH3GXxqyEblKBtOHcUGE62H+z02QVrK3kEwyH3V7LqhQPvq2jU3ZvOf2nsibO2lQIYOO3qy09O6mxHb/ltzfH2tZ+dgLnlQtiaqemKiiIjs2UbfVqNDJvxVLD8b8PmWeYBIEFW7MKnRQvyfTOE0XVFQz/664IM0FJuZamg1W9UazRyqSI6gwLvwfAQQQQAABBBBAoAgCBBXBVXQgZmG6LvWnZzL8uSEb6tN0/3YDe6/7+oMDOf2rJydP96V2R4UFG7L/4kQOngVPNbCfOidPDPDPO0FbahFXvteU7isTQwx/a4q6Xz65z99+uqs2V6zcrUu8tyO1dyqy+Sh9UoA+RpWJbzXlNE0zdE/cky9KDw7MU0z0d+1iUz0h4UdzO8XwL/Opcvn+gd2fQr3RLpJu7cjhH6dy8LBtnorgj3GWr/88TJ/GoO2HcvLQbCBpnvoxkONHsTSPTqWvn3ygHjvZMNUP3p4JZtPJ9Pr5FRUHf6Wl9ZmQZtiRHbWgfbdpn6rRM59eq/L/3Y5nNDqw4fc7OtTIPqmiK/tqHxH31A992BS++ukxaj72ZKj2Ovn7RD9lJlM5op48Y5/q4T81wu+hCSrMnh/m6TB96X5elVK5JgfukaETzEfVptpUdftrW61jA4Bkk8r+gd6cNbrXSh4VK8r0dizHdu6dPtr0nhgylO6nGxJFFYl/SCfn5JauouKSsXmhk/rd7al5cz7Ut22VbsfSUbda2P/cprEuIBi+PpWDByYQ1L93UzipoMLfeFde28DEf0rHef71639nNs5Mn/oxkBN1zdRcdPtl9A9MAOO35wbC3wgggAACCCCAAAIIrJiAW5evWLfHdnduFRWDX5pSe0ttYliSyp26tH9LF0/m7APp7G3oR3WW3qpJU+2L8KMKNNSGl+30kZFeV8+e1NJgwfu+yOVt9b6uycY7G1JRi2f1yf5bVYmf97zqCRH5syPxB+vm8aHlDak/TkvlzafV3r3s3qafIz9LPqm2C+l7scR3K3phFJXXZXuvky4+7TjU7Rkba5GU36lnN7LMjHOKF/aTdOXv9vYwi2xvDPrWE7WHRSzbt8vmXv21imx+2JRj++iGkWNUUKP3qDB7fJz9fCjtXVNdUXo3lra6FSU5d3ouvVh1i0u9J8DoLQZqdPmW1tHbS8Asfif3lfMz6TysyUbZ9Kl8e1t2nnTTwGRcnwNy47Etsd7rRLVVlvUPYum42wz0+y+fjxlXewtQ8iQbW4mg5qn5E0sn0z8bGr1qS/0TdaOFq4Jx7zcVC6GlCZLGWbqg4rKxGZCz7xtSe8fOGTWnP27bR/+an2fGl4yjLOtbNWkkv3dTOql2lFXGQo1ZeYTjMvMrNFBVJP+t9+JQj0m1jzbNbS+48LxEAAEEEEAAAQQQQGCFBAgqgotVNJBgeFO+tIunZC+KKQ/n7ZcILN7XLMDzQ5ZLOrv0Py7y2JYenw4igAACCCCAAAIIIDBHgaKty+dWUTFH4xVuavEL6RXGmqHri/ct8mK+yGObYXJxCAIIIIAAAggggAACKytAUBFcuqKBBMOb6mWyp8V9f9+KqZrgzRcILNx3gj0sLujucv+oyGNbbnl6hwACCCCAAAIIIIDA3AWKti6nomJOU2Tk3nhvT4s5neJGN7Nw35F9DMw+EIW4CEUeWyEuEINAAAEEEEAAAQQQQGA6AYKKwKtoIMHweIkAAggggAACCCCAAAIIIIDAUgsUbV1ORcVSTzc6hwACCCCAAAIIIIAAAggggMDFAgQVgY8D6ff78s0338hnn312o/8oA2XBfwgggAACCCCAAAIIIIAAAggsQsCtyxdxrkWcY24VFWqB3u12ZTAY3Og/ykBZ8B8CCCCAAAIIIIAAAggggAACixAgqAiUHYiqpLjpIYUbv7LgPwQQQAABBBBAAAEEEEAAAQQWIeDW5Ys41yLOMbeKCoKKtJKEoGIRU5dzIIAAAggggAACCCCAAAIIKAGCimAeOBCCCoKKYGrwEgEEEEAAAQQQQAABBBBAYAECbl2+gFMt5BRzr6h49s9IougjeTZ2r4pn8lEUSfTPZ4W9VYSKioXMXU6CAAIIIIAAAggggAACCCBARcXoHHDJTVpRYYKI9//1a34Q8e+PJIrely9P0goEt7dDUf4mqBidJ3wHAQQQQAABBBBAAAEEEEDgegTcuvx6Wl98q3OvqFBhw6//en9MGPGrfPlesasp1PgJKhY/kTkjAggggAACCCCAAAIIIHBTBQgqgivvQNKKClUpMSaQCKsp9Gt1q0jw570v5Vfv1hETfPjvCSsy7PnCdvRr9978Prm2P/q3C1j88/hfq9tZ8tsIK0EIKoJJwksEEEAAAQQQQAABBBBAAIFrE3Dr8ms7wYIbvpaKCr1wD0OJvEW+fk92Pwu9x4UXVJggIec9mX0w8gOEbGVHzntOvpT3bbihggo/cMg779gAxgtVqKhY8AzmdAgggAACCCCAAAIIIIDADRcgqAgmgAPJVlR4VRUudBgJLgYyUN9zP7eL/WxQMWa/CxswpOFCTggxcgtK+B77+r33dViRtmUCC4KK4ELzEgEEEEAAAQQQQAABBBBAYCkF3Lp8KTs3Q6eur6JCBQ9JoBCGBF4YcGFQka1yME8USW/HSMOFC9pPNu4M3uOqOZI+Zs9FUDHDbOIQBBBAAAEEEEAAAQQQQACBhQsQVATkDmS0osIs/NNwwe0VkQYC+mfBY0qzFRXhvhG2jZFwIQghbHXG+Fs/vEqNkbZM/y4MKkb2wsjemsIeFcEk4SUCCCCAAAIIIIAAAggggMC1Cbh1+bWdYMENX29FhQ4MTCgQBYGE2+8hfIxpJqiwIUL4nrRSw4Ue0wUVOoRwlRyzBBWZsdhze3tmEFQseBZzOgQQQAABBBBAAAEEEEDgBgsQVAQX34GMq6jQ+1B4i/hkw0odEIypsnAhgr49I5L0Fg+/2sH//hRBRbgnxZWDCrvXRnKLCY8nDaYILxFAAAEEEEAAAQQQQAABBK5RwK3Lr/EUC236misqTIAwUhHhNrp0gYS9VUOFGHkVFZlqDBssqEeapgHGFEGFum3Dr4i4clBBRcVCZywnQwABBBBAAAEEEEAAAQQQyAgQVGQ4RBxIpqLCVkKoMCF8qkcSRozs85BukqmPc2GCF0zo7+vqjPR2ErOXhDp2tDojd4+K8H2zBBUjfWePimBa8BIBBBBAAAEEEEAAAQQQQGBBAm5dvqDTXftprrmiwu0hkf07bxPN5JYQV23hggqv2sJ/zzJ/zR4V1z5vOQECCCCAAAIIIIAAAggggIAVIKgIpoIDyVRUXBIuEFQEiLxEAAEEEEAAAQQQQAABBBBAYEYBty6f8fClO4yKiktClVkqN6ioWLp5TocQQAABBBBAAAEEEEAAgcIKEFQEl9aBTFNRMcvif5WOIagIJgkvEUAAAQQQQAABBBBAAAEErk3Arcuv7QQLbviNVFSsUugwS18JKhY8izkdAggggAACCCCAAAIIIHCDBQgqgovvQL755hvpdrsyy8K+SMcoA2XBfwgggAACCCCAAAIIIIAAAggsQsCtyxdxrkWcY24VFf1+Xy/QVTXBTf6jQgplwX8IIIAAAggggAACCCCAAAIILEKAoCJQdiD8/YVggAFzgDnAHGAOMAeYA8wB5gBzgDnAHGAOvKk5ECzXV/bl3Coq3tSF4Lz8I8AcYA4wB5gDzAHmAHOAOcAcYA4wB5gDzIEvVjaYCDt+5aAibJDXCCCAAAIIIIAAAggggAACCCCAwKwCBBWzynEcAggggAACCCCAAAIIIIAAAgjMXYCgYu6kNIgAAggggAACCCCAAAIIIIAAArMKEFTMKsdxCCCAAAIIIIAAAggggAACCCAwdwGCirmT0iACCCCAAAIIIIAAAggggAACCMwqQFAxqxzHIYAAAggggAACCCCAAAIIIIDA3AUIKuZOSoMIIIAAAggggAACCCCAAAIIIDCrAEHFrHIchwACCCCAAAIIIIAAAggggAACcxcgqJg7KQ0igAACCCCAAAIIIIAAAggggMCsAgQVs8pxHAIIIIAAAggggAACCCCAAAIIzF2AoGLupDSIAAIIIIAAAggggAACCCCAAAKzChBUzCrHcQgggAACCCCAAAIIIIAAAgggMHcBgoq5k9IgAggggAACCCCAAAIIIIAAAgjMKkBQMascxyGAAAIIIIAAAggggAACCCCAwNwFCCrmTkqDCCCAAAIIIIAAAggggAACCCAwqwBBxaxyHIcAAggggAACCCCAAAIIIIAAAnMXIKiYOykNIoAAAggggAACCCCAAAIIIIDArAIEFbPKcRwCCCCAAAIIIIAAAggggAACCMxdgKBi7qQ0iAACCCCAAAIIIIAAAggggAACswoQVMwqx3EIIIAAAggggAACCCCAAAIIIDB3AYKKuZPSIAIIIIAAAggggAACCCCAAAIIzCpAUDGrHMchgAACCCCAAAIIIIAAAggggMDcBQgq5k5KgwgggAACCCCAAAIIIIAAAgggMKsAQcWschyHAAIIIIAAAggggAACCCCAAAJzFyComDspDSKAAAIIIIAAAggggAACCCCAwKwCBBWzynEcAggggAACCCCAAAIIIIAAAgjMXYCgYu6kNIgAAggggAACCCCAAAIIIIAAArMKEFTMKsdxCCCAAAIIIIAAAggggAACCCAwdwGCirmT0iACCCCAAAIIIIAAAggggAACCMwqQFAxqxzHIYAAAggggAACCCCAAAIIIIDA3AUIKuZOSoMIIIAAAggggAACCCCAAAIIIDCrAEHFrHIchwACCCCAAAIIIIAAAggggAACcxcgqJg7KQ0igAACCCCAAAIIIIAAAggggMCsAgQVs8pxHAIIIIAAAggggAACCCCAAAIIzF2AoGLupDSIAAIIIIAAAggggAACCsnSFQAAAKdJREFUCCCAAAKzChBUzCrHcQgggAACCCCAAAIIIIAAAgggMHcBgoq5k9IgAggggAACCCCAAAIIIIAAAgjMKkBQMascxyGAAAIIIIAAAggggAACCCCAwNwFCCrmTkqDCCCAAAIIIIAAAggggAACCCAwqwBBxaxyHIcAAggggAACCCCAAAIIIIAAAnMXIKiYOykNIoAAAggggAACCCCAAAIIIIDArAL/H1p11Zs3RBc+AAAAAElFTkSuQmCC)"
      ],
      "metadata": {
        "id": "LQzA3pB5oRQS"
      }
    },
    {
      "cell_type": "markdown",
      "source": [
        "* Сверху мы видим пример статичного компонента для отдельно взятого поста, который мы можем переиспользовать. У этого компонента всегда статичное название и описание. Ниже приведен пример, если мы хотим это исправить."
      ],
      "metadata": {
        "id": "l3YhMamtoah7"
      }
    },
    {
      "cell_type": "markdown",
      "source": [
        "* Входные данные в контесте React называются props"
      ],
      "metadata": {
        "id": "6wfFX18CX73B"
      }
    },
    {
      "cell_type": "markdown",
      "source": [
        "* Так будет выглядеть **PostItem**"
      ],
      "metadata": {
        "id": "w-QllWI8YsAU"
      }
    },
    {
      "cell_type": "code",
      "source": [
        "import React from 'react'\n",
        "\n",
        "function PostItem(props) {\n",
        "  console.log(props);\n",
        "  return (\n",
        "    <div className = \"post\">\n",
        "        <div className = \"post__content\">\n",
        "          <strong>1. Javascript </strong>\n",
        "          <div>\n",
        "            Javascript - язык программирования\n",
        "          </div>\n",
        "          <div className=\"post__btns\">\n",
        "            <button>Удалить</button>\n",
        "          </div>\n",
        "        </div>\n",
        "      </div>\n",
        "\n",
        "  )\n",
        "}\n",
        "\n",
        "export default PostItem\n"
      ],
      "metadata": {
        "id": "zkqa7O4SZUr5"
      },
      "execution_count": null,
      "outputs": []
    },
    {
      "cell_type": "markdown",
      "source": [
        "* Так будет выглядет **App**:"
      ],
      "metadata": {
        "id": "p_N7OZmBZViy"
      }
    },
    {
      "cell_type": "code",
      "source": [
        "import React, {useState} from 'react';\n",
        "import Counter from './components/Counter';\n",
        "import ClassCounter from './components/ClassCounter';\n",
        "import './styles/App.css'\n",
        "import PostItem from './components/PostItem';\n",
        "\n",
        "function App() {\n",
        "\n",
        "const [value, setValue] = useState('ТЕКСТ В ИНПУТЕ')\n",
        "\n",
        "\n",
        "  return (\n",
        "    <div className=\"App\">\n",
        "      <PostItem value={\"2222\"} item={{title:0}} number={1}/>\n",
        "\n",
        "    </div>\n",
        "  );\n",
        "}\n",
        "\n",
        "export default App;\n"
      ],
      "metadata": {
        "id": "jkJmqcNrZZto"
      },
      "execution_count": null,
      "outputs": []
    },
    {
      "cell_type": "markdown",
      "source": [
        "* Props можно увидеть в консоли:"
      ],
      "metadata": {
        "id": "GylYPwERZLEh"
      }
    },
    {
      "cell_type": "markdown",
      "source": [
        "![image.png](data:image/png;base64,iVBORw0KGgoAAAANSUhEUgAAAMUAAABcCAYAAADeUXF7AAANj0lEQVR4Ae1dX2vcSBLP57De8wXyDe75IC+xYd/uAxyGMQR27Mc4JLFD4AJ2Bu95GY4lLwshxox92JA8JsYP93K7CcaPDmd72Y0hm8utIa6jurvU1S21pJmRZI2mBoaR+k9196/r11UtlUY3oMrPwQZ0Oh3z3YC3pq2Tl/fg3suT7JZPtuBepwMbB9nF8nPfwkbHtp1X/m///AP+dP/33C+Wk087EbhR2bCUUt+DLaP7SITO/S3A00KkKK1jw5Hiz6ufHULc+fsX+GsvSRIsJ592IpBLiqdPn8L8/Hzq99mzZ0FUkop/Alv3NUl03hZskBXZIBsC8HaDLIv+dSwFtzyGYHEHeJ6xDL4sZbVYW3FdduBbiWfHV/Cff//PIQqVYdXksEUI5JLi0aNHqYRAojx+/DgIBSqko9CgFR7TlNWIXRokS7IsCnZkoOVhRFAySMGVVQq5SMNZClJ4/O3uX8LLw0v4Yfu/QorgTLcvI5cUZ2dnak/gWwtcdTEv9HEU2hSiNN+K+Ockk8rjuSaSa0U6hhSh+lrO6KT4yz++QPdfX+HX92IpaE6m4TeXFAjCq1evEtbi9evXmfgkFdV3n+xGmys/F8rTk/Jsyaw8gNFJoazGGyGFRXo6jgqR4urqCp48eRITA/cZuR/PpUHFTd9oo9LaDTmXy0kBnjxeDtR+Ist9SpfvyDAn3H0SUqQh1P60QqRAGD5+/AiLi4vQ7Xbh4uKiEDKKCLSZ9vcDlJ5x2dUhRYoLxfcsTlvxfkV308mjfUhgBPbq0xf44fgr/PTbFfzx+1f46fgSuuxSrVx9CgDYguTCpMCxfvr0CT5/rutSpHW36sRZ7lPUiXYz2xqKFNUPAV0pu5nOvcFXUYeQGNZiuPcoMF1u3FUEfEPENowUDUFFujHVCAgppnr6ZfBpCAgp0lCRtKlGQEgx1dMvg09DQEiRhoqkTTUCjSPFh7UH0L15F/q77ZkXNabb2/ChPUNq9UgqI8XDhw9VwGBWfFQasiFS6PRNOEyrVGfa7hJEUQTRbA+OWLuHC2Eih0iB6StrNtxFizuBwe27amHo3qx+vINvn8PMjP4u7tgB7XQjNc65dT5Km9/mo8pIQQGEGDi4t7cHGCoyzqcZpDiC3uwc9N4nR5JFimRpnZJOCip9AP2KSXG0/gJmvn1nGnwHizMvoEenmPq+B3PREjCuUOda/Vs5KYgcq6urcH5+ngEmKgGtkGzVPdqGFZaOrpXrXvGV9a5ZeXXaym3tiq0sbGoZjguzA0tRBMOthEgKT0l2N82qbvtuV3g2Jt526pgewMBZlNNJgeQjDBJWRilxBEuFXM9foHeHkeDdAczOPIfZ9V/YHCFG3nhZblsPayMFkmN5eRkuLy+zsTRK5u8pQpZCKcmCeWbVKFt/1xBl4QDieiqPuyOjkCKsJJmWAtvmpDAIDGsp3PJ6jA5OQ5ECLcMeDLAvO3swM7MHvfUXHinCljF7Eic7d8JJwVZiZk2IFLiSKlKgQipS+Ktx8ck7Wp+DKGPVrJ4UrkUka+GQovhwAMCQAglx50Dtj9Cdci0FCkRiRBB1p8eJqo0U+e6TmdGhLIUmRcKNAOM+lUgK3bvrtBQ4ptFJneQLuk/PY0JgPm66XVKIpUjiNkYK7SVwo72/v198oz0UKWj15G4RdroIKUZxn1L2FAYjtBRJcprMDPepS65fAuvknkJZvWB52hgX3VMAOJZB7SnYHkP1J7wIJLrbooTKLAVdkj09PS0Gl3Jv7CZSuwdc2V1XyboNbnr3Jq6m9ZMCnP6bfjtpZmyOUvO+kxXgaaZOvB+hRYBw4vgMTwoAYy1SLsnqSRNSFFPeqS41Ze6EXJKdam0vPvjAzbviAiajpNy8m4x5kl4KArUgUNmeopbeSyOCQAUICCkqAFVETjYCQorJnj/pfQUICCkqAFVETjYCQorJnj/pfQUItJcU6s443RCrALmiIk30KQbcqeC7ovWk3LUhIKSoEnoKtlPEEFJUCXWZsptDChUS8QD6C/oZCP7MhAoPp1AHEzqhwjzQGtx+YJ632IS+edYgzrvJ5blWQ8mkyNo49EKHWMTPX2B+nIewjxIvhQGp+KyCkKJMxa1SVsNIcRe6Rvk5EfgxxRhxxR8cGWVeOwEsqwLzTGAhKTWXEYeTK2RtXQCKOzIxRQkXTEhRpTI2RXbjSEGBflyJ+XGSFKjAWpmxriqLq7un0IoI6vFOP6hOB9fpCFdOkBKnSCxFiWBWL2p6SeG4RQS0kIKQmObfiSOFsgT0FzjKGhSxFMYtMkTQMtw9hlaCPFKI+zQNZJkIUpDLpJ6xWNhUf3Bg9xRZpKDnDuxeRU9q0oXSblvJpIgvx9q/kbH/njEN6jWZY2wOKSYTP+l1CxEQUrRwUmVI4yEgpBgPP6ndQgSEFC2cVBnSeAgIKcbDT2q3EAEhRQsnVYY0HgJCivHwk9otREBI0cJJlSGNh8DEk4LucOsbe+aPlsfDZPjaxwP48dYKvDn+AG++6cKP39nXs5x9twLf3+rq7yJ/u4YuS3m7+6zZ/b6t880AzuKsjDoZfYiry0EhBCaeFHqUbhhHoZGXWUgpZB9+Bp8Uh7AbK/Uh7N7qQqz8+31LHkUCrI8flMGPGcmCdQAg2IcyBzodshpDCrXi0zMTiD17bkJHuLKQjUQwXwopnChZE9bB6mVZmLx/GE+oRqyQAD8vMsX3CobzkDBEBLcSWhpueWyuV6dgH2x9OQoh0BhSpIZ6c5LQCBhZKCl+DoIpvSvPJUX4eQotcWhS2I5kHKESo4uVUgQtRWxReL62PLF14VnBOryQHI+CQHNIwf4pnP9ruB6UsQT0pBxFycYjHsZSJIMBcT8S/MfwuI1xDny3islSK3w6WdCyfO/sQ0y9jDpMshyOiECDSAGBF6wYJSarMbalcK3GiLgNUU0TIqzc6e6WIkSa9VCESK8zRKekaAYCjSKFdoPMc9WxK+QqMe0F6Ak9PbYcS6H2F/Z5ay0j7XkKLa1M9ym42oO38WaTpK5YpREiow6rLodjItAwUpjHSX33iJRauTnb9nkK43Kpy7EJ14q7SeZPDXyiJepoNEsjBb+0SpdljbIrslCa+VUbamMJ6FKt/tWb8GCdMZVAqrsINI4UbvfkTBCoHwEhRf2YS4sNR0BI0fAJku7Vj4CQon7MpcWGIyCkaPgESffqR0BIUT/m0mLDERBSNHyCpHv1IyCkqB/z9reoXjVc/CX3TQOkMlLQy+XPzuzTAPmD5zFO5k+OTSUeKcvjlOgON93A43n57aWVwD64baeV8tOwH+5ddr9EGef8hqR/Rz6M3Ugt06uRowiiaAl2jBC8sTm3fpQtsjRSXM/L7Ssjxfz8POC30+nA3t4eXF1dZQOpcsMKiaRIU3hHGVVclK8sBZp1ioT74BTzTpx+eHnlnyI5QuMcrf9OH5VSz0HvvU5Vd/hne4BUKEQKR9g4Jy0lBZFjdXUVzs/PcxAKT2ghUpiwD/sXmJswWEu+74KicH3r4lsdlR8IDYkJykJQSF7XWBqUF5fDkWNZE9iI4+mvbZt3a9i4LAWQCXrU8tKs1vCkUC+LN4qdMwkpin8EvVlNEk2KHiwpCxJB1CUbAkAvpI9M3tIua4lbHr8fPM9YJV+WksnaYpJLP6zcUhAp8Hd5eRkuLy8zBjEmKZQykRKhLKaUmGcU0lVW7ZJY1ye9D9l1dMyWlWGGyNrEFJRBZbQ7SH3lffDaZ0SywFVLClRIR6HxdTUmTVmN2J1CsiTLYj+pvOozWh5GBCWDFFxZJeue2TEqKbAUt+XmVHnWClLYFZq7FJ5yxSgmFcq1Qmn18uq4Ch83pSwX9ekA+hT+jg+deu5gfJ5meVg9LTvZH9tmWv9tbpEjR6FNBUrz3Sf/nORTeTzXRMK9CfsaUoTqazniPoEOHafVk+DVv7HSuMnO6utmhZQjqVCu7LR6eXVCpNAuk3KhdjdjK4H9dNvU9akcvX3JHQ8/S/bH5qb13+YWOUoqqu8+2Y02V34um6cn5dmSWXn6dWohK2JllH1UuaXAjfb+/n49G20HnbByuK4QlrNuDT3TMbDzrqRm12FK7fQBT7SFGCy4ZHdJgX1gFiU+TggzCcOTApU0Yi5MSLJK91waVFyq6yoxruR2Q85lclKAJ4+XA7WfCCl+WL4jo+STykhBl2RPT0+H6HJYkV0lsiK5n25T8SgsS+fZP0JwNsNmFY9dsnijrclD6X4d+qOFtM0x9tFf/XE8JAt/aa+hxuC5UIm2HLfMHXVo3EORwnd5GJkUQZgb5O89qDcOKXx5kbsPcWW6BHHyaB9CjVT0WxkpRutvWJFDpBitnTprpa/q440nXaYeVRjD+kZt3a362iyvpQaSglbwpLtBK2ty5SwPkPIkoeLqsThWwDQwGimszG7CxeKWzMWuvDFlSUJXx26kc2/wZYm65ryGkeKa0ZDmBQEAEFKIGggCHgJCCg8QORUEblxcXIB8BQPRAasDYilkYRQEPASEFB4gcioICClEBwQBDwEhhQeInAoCQgrRAUHAQ0BI4QEip4KAkEJ0QBDwEBBSeIDIqSAgpBAdEAQ8BIQUHiByKggIKUQHBAEPASGFB4icCgJCCtEBQcBDQEjhASKngsD/AdYzluhMkimsAAAAAElFTkSuQmCC)"
      ],
      "metadata": {
        "id": "AQly32ubaYmP"
      }
    },
    {
      "cell_type": "markdown",
      "source": [
        "* Сделаем более осмысленный Props, где мы можем обращаться к нему непосредственно на странице."
      ],
      "metadata": {
        "id": "KvbSW7Asajmh"
      }
    },
    {
      "cell_type": "markdown",
      "source": [
        "* Так будет выглядет **App**:"
      ],
      "metadata": {
        "id": "JbLkS9OPbJ5Z"
      }
    },
    {
      "cell_type": "code",
      "source": [
        "import React, {useState} from 'react';\n",
        "import Counter from './components/Counter';\n",
        "import ClassCounter from './components/ClassCounter';\n",
        "import './styles/App.css'\n",
        "import PostItem from './components/PostItem';\n",
        "\n",
        "function App() {\n",
        "\n",
        "const [value, setValue] = useState('ТЕКСТ В ИНПУТЕ')\n",
        "\n",
        "\n",
        "  return (\n",
        "    <div className=\"App\">\n",
        "      <PostItem post={{id: 1, title: 'Javasript', body: 'Description'}} />\n",
        "\n",
        "    </div>\n",
        "  );\n",
        "}\n",
        "\n",
        "export default App;\n"
      ],
      "metadata": {
        "id": "gpd1KdSabkwB"
      },
      "execution_count": null,
      "outputs": []
    },
    {
      "cell_type": "markdown",
      "source": [
        "*  Так будет выглядеть **PostItem**:"
      ],
      "metadata": {
        "id": "Z_tzZ7gWbqqg"
      }
    },
    {
      "cell_type": "code",
      "source": [
        "import React from 'react'\n",
        "\n",
        "function PostItem(props) {\n",
        "\n",
        "  return (\n",
        "    <div className = \"post\">\n",
        "        <div className = \"post__content\">\n",
        "          <strong>  {props.post.id} {props.post.title} </strong>\n",
        "          <div>\n",
        "            {props.post.body}\n",
        "          </div>\n",
        "          <div className=\"post__btns\">\n",
        "            <button>Удалить</button>\n",
        "          </div>\n",
        "        </div>\n",
        "      </div>\n",
        "\n",
        "  )\n",
        "}\n",
        "\n",
        "export default PostItem\n"
      ],
      "metadata": {
        "id": "iW7rSdS9bygP"
      },
      "execution_count": null,
      "outputs": []
    },
    {
      "cell_type": "markdown",
      "source": [
        "* Cтраница будет выглядет так:"
      ],
      "metadata": {
        "id": "FXMl3LqQb2eZ"
      }
    },
    {
      "cell_type": "markdown",
      "source": [
        "![image.png](data:image/png;base64,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)"
      ],
      "metadata": {
        "id": "MC3WpZz1b-a3"
      }
    }
  ]
}