{
  "nbformat": 4,
  "nbformat_minor": 0,
  "metadata": {
    "colab": {
      "provenance": [],
      "authorship_tag": "ABX9TyOhLZh+MSSIhcGzpHI8DyvT",
      "include_colab_link": true
    },
    "kernelspec": {
      "name": "python3",
      "display_name": "Python 3"
    },
    "language_info": {
      "name": "python"
    }
  },
  "cells": [
    {
      "cell_type": "markdown",
      "metadata": {
        "id": "view-in-github",
        "colab_type": "text"
      },
      "source": [
        "<a href=\"https://colab.research.google.com/github/BISH0808/JavaScript_basics/blob/main/Notes_from_UlbiTV_video/Start.ipynb\" target=\"_parent\"><img src=\"https://colab.research.google.com/assets/colab-badge.svg\" alt=\"Open In Colab\"/></a>"
      ]
    },
    {
      "cell_type": "markdown",
      "source": [
        "# Start"
      ],
      "metadata": {
        "id": "IW8sA6ku7LH-"
      }
    },
    {
      "cell_type": "markdown",
      "source": [
        "# Как начать?"
      ],
      "metadata": {
        "id": "_Ni9pwQJug1v"
      }
    },
    {
      "cell_type": "markdown",
      "source": [
        "* Для начала необходимо перейти на сайт - https://ru.legacy.reactjs.org/\n",
        "* Там будет вся необходимая информация, как создавать приложение.\n",
        "* Есть много способов для  создания приложения, но самый простой - воспользоваться утилитой **Create React App**, которая делает всю необходимую конфигурацию подключает все необходимые модули и настраивает WebPack."
      ],
      "metadata": {
        "id": "1DtcdVAGuzAk"
      }
    },
    {
      "cell_type": "markdown",
      "source": [
        "# Как убедиться, что утилита npx работает?"
      ],
      "metadata": {
        "id": "CDDkhCcXj9Lp"
      }
    },
    {
      "cell_type": "markdown",
      "source": [
        "* Необходимо набрать команду:"
      ],
      "metadata": {
        "id": "1EhyM7AhkI9a"
      }
    },
    {
      "cell_type": "code",
      "source": [
        "npx --v"
      ],
      "metadata": {
        "id": "Q7KO2jSYmcWp"
      },
      "execution_count": null,
      "outputs": []
    },
    {
      "cell_type": "markdown",
      "source": [
        "* Если показало версию, значит все отлично"
      ],
      "metadata": {
        "id": "_5LENvcWmd5h"
      }
    },
    {
      "cell_type": "markdown",
      "source": [
        "# Что необходимо сделать, чтобы воспользоваться утилитой React App"
      ],
      "metadata": {
        "id": "-PqWY4K-vJi7"
      }
    },
    {
      "cell_type": "markdown",
      "source": [
        "**Отвечает #ChatGPT**"
      ],
      "metadata": {
        "id": "C7i0t2KGwK2M"
      }
    },
    {
      "cell_type": "markdown",
      "source": [
        "Для того чтобы воспользоваться утилитой **React App**, вам понадобится следующее:\n",
        "\n",
        "1. **Установленный Node.js** React приложения разрабатываются и запускаются с помощью Node.js, поэтому убедитесь, что у вас установлена последняя версия Node.js на вашем компьютере. Вы можете скачать и установить Node.js с официального сайта: https://nodejs.org/\n",
        "\n",
        "2. Пакетный менеджер **npm (Node Package Manager)**: Вместе с Node.js устанавливается также npm. Это инструмент, который используется для установки и управления пакетами (библиотеками) в Node.js проектах.\n",
        "\n",
        "3. **Текстовый редактор или интегрированная среда разработки (IDE)**: Выберите среду разработки, которая вам нравится, чтобы создавать и редактировать файлы React приложения. Некоторые популярные варианты: Visual Studio Code, Sublime Text, Atom, WebStorm и другие.\n",
        "\n",
        "4. **Командная строка или терминал**: Для выполнения команд связанных с React приложением (например, установка зависимостей, запуск сервера разработки и т.д.), вам потребуется командная строка (на Windows это командная строка или PowerShell, на Mac и Linux - терминал).\n",
        "\n",
        "После установки Node.js и настройки среды разработки вы будете готовы создавать и запускать React приложения с помощью утилиты Create React App (это не само приложение, а утилита для быстрого создания новых проектов на React).\n",
        "\n",
        "Для создания нового проекта на React с помощью Create React App, выполните следующие шаги:\n",
        "\n",
        "1. Откройте командную строку или терминал.\n",
        "2. Убедитесь, что у вас установлен npm, введя команду **npm -v**. Если версия npm отображается, значит, все установлено правильно.\n",
        "3. Установите Create React App глобально на своем компьютере, введя команду **npm install -g create-react-app**. Это позволит вам использовать команду **create-react-app** для создания новых проектов.\n",
        "4. Создайте новый проект React, запустив команду **create-react-app my-app**, где **my-app** - это имя вашего нового проекта. Вы можете выбрать любое другое имя вместо **my-app**.\n",
        "5. Перейдите в созданную папку проекта, введя команду **cd my-app**.\n",
        "6. Запустите сервер разработки, введя команду **npm start**. Это запустит ваше React приложение, и вы сможете видеть его в браузере по адресу http://localhost:3000/.\n",
        "\n",
        "Теперь у вас есть рабочий React проект, и вы можете начать разрабатывать свое приложение, редактируя файлы в папке проекта."
      ],
      "metadata": {
        "id": "RqMSNI-4v3Wj"
      }
    },
    {
      "cell_type": "markdown",
      "source": [
        "# Что нужно сделать после создания проекта"
      ],
      "metadata": {
        "id": "2qFV1Iolmjou"
      }
    },
    {
      "cell_type": "markdown",
      "source": [
        "* Удалить ненужное"
      ],
      "metadata": {
        "id": "cVZbv3NhT4V1"
      }
    },
    {
      "cell_type": "markdown",
      "source": [
        "* В файле index.html есть корневой компонент \"root\", в который и будет монтироваться наше приложение\n",
        "* В файле index.html удаляем все ненужное оставляем только:"
      ],
      "metadata": {
        "id": "ZRrwOB-IT6LV"
      }
    },
    {
      "cell_type": "code",
      "source": [
        "<!DOCTYPE html>\n",
        "<html lang=\"en\">\n",
        "  <head>\n",
        "\n",
        "    <title>React App</title>\n",
        "  </head>\n",
        "  <body>\n",
        "    <noscript>You need to enable JavaScript to run this app.</noscript>\n",
        "    <div id=\"root\"></div>\n",
        "\n",
        "<!--    ЗДЕСЬ БУДЕТ НАШЕ JS ПРИЛОЖЕНИЕ   -->\n",
        "\n",
        "  </body>\n",
        "</html>"
      ],
      "metadata": {
        "id": "z96U9iAu9dFM"
      },
      "execution_count": null,
      "outputs": []
    },
    {
      "cell_type": "markdown",
      "source": [
        "* В папке src (в которой находится исходный код приложения) удаляем все кроме index.js и компоненты App.js.\n",
        "* Структура проекта без ненужных файлов:"
      ],
      "metadata": {
        "id": "_V515SSA5LgM"
      }
    },
    {
      "cell_type": "markdown",
      "source": [
        "![image.png](data:image/png;base64,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)"
      ],
      "metadata": {
        "id": "8patIr1l958V"
      }
    },
    {
      "cell_type": "markdown",
      "source": [
        "* Файл \"App.js\" - корневой компонент\n",
        "* Файл \"App.js\" также очищаем и редактируем следующим образом:"
      ],
      "metadata": {
        "id": "ZakIIN-C5SHX"
      }
    },
    {
      "cell_type": "code",
      "source": [
        "import React from 'react';\n",
        "\n",
        "function App() {\n",
        "\n",
        "  return (\n",
        "    <div className=\"App\">\n",
        "\n",
        "    </div>\n",
        "  );\n",
        "}\n",
        "\n",
        "export default App;\n"
      ],
      "metadata": {
        "id": "h-_Yh_YP9j9F"
      },
      "execution_count": null,
      "outputs": []
    },
    {
      "cell_type": "markdown",
      "source": [
        "* Файл index.js также очищаем и редактируем следующим образом:"
      ],
      "metadata": {
        "id": "Pu6sKhyw6ddQ"
      }
    },
    {
      "cell_type": "code",
      "source": [
        "import React from 'react';\n",
        "import ReactDOM from 'react-dom';\n",
        "import App from './App';\n",
        "\n",
        "ReactDOM.render(\n",
        "  <App/>,\n",
        "\n",
        "\n",
        " document.getElementById('root')\n",
        ");"
      ],
      "metadata": {
        "id": "seeemGCx9ri8"
      },
      "execution_count": null,
      "outputs": []
    },
    {
      "cell_type": "markdown",
      "source": [
        "* В файле index.js с помощьюе ReactDOM вызываем функцию render, с помощью чего передаем компонент, который необходимо отрисовать, а вторым блок, в который мы этот компонент будем монтировать.\n",
        "* После этого приложение начинает работать."
      ],
      "metadata": {
        "id": "xb8DteHA7ob5"
      }
    }
  ]
}