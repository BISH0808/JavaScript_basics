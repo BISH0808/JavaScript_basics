{
  "nbformat": 4,
  "nbformat_minor": 0,
  "metadata": {
    "colab": {
      "provenance": [],
      "authorship_tag": "ABX9TyMZ/BKgpvBKJJTZvMQf2ZHf",
      "include_colab_link": true
    },
    "kernelspec": {
      "name": "python3",
      "display_name": "Python 3"
    },
    "language_info": {
      "name": "python"
    }
  },
  "cells": [
    {
      "cell_type": "markdown",
      "metadata": {
        "id": "view-in-github",
        "colab_type": "text"
      },
      "source": [
        "<a href=\"https://colab.research.google.com/github/BISH0808/JavaScript_basics/blob/main/Notes_from_UlbiTV_video/Start.ipynb\" target=\"_parent\"><img src=\"https://colab.research.google.com/assets/colab-badge.svg\" alt=\"Open In Colab\"/></a>"
      ]
    },
    {
      "cell_type": "markdown",
      "source": [
        "# Start"
      ],
      "metadata": {
        "id": "IW8sA6ku7LH-"
      }
    },
    {
      "cell_type": "markdown",
      "source": [
        "# Как начать?"
      ],
      "metadata": {
        "id": "_Ni9pwQJug1v"
      }
    },
    {
      "cell_type": "markdown",
      "source": [
        "* Для начала необходимо перейти на сайт - https://ru.legacy.reactjs.org/\n",
        "* Там будет вся необходимая информация, как создавать приложение.\n",
        "* Есть много способов для  создания приложения, но самый простой - воспользоваться утилитой **Create React App**, которая делает всю необходимую конфигурацию подключает все необходимые модули и настраивает WebPack."
      ],
      "metadata": {
        "id": "1DtcdVAGuzAk"
      }
    },
    {
      "cell_type": "markdown",
      "source": [
        "# Что необходимо сделать, чтобы воспользоваться утилитой React App"
      ],
      "metadata": {
        "id": "-PqWY4K-vJi7"
      }
    },
    {
      "cell_type": "markdown",
      "source": [
        "**Отвечает #ChatGPT**"
      ],
      "metadata": {
        "id": "C7i0t2KGwK2M"
      }
    },
    {
      "cell_type": "markdown",
      "source": [
        "Для того чтобы воспользоваться утилитой **React App**, вам понадобится следующее:\n",
        "\n",
        "1. **Установленный Node.js** React приложения разрабатываются и запускаются с помощью Node.js, поэтому убедитесь, что у вас установлена последняя версия Node.js на вашем компьютере. Вы можете скачать и установить Node.js с официального сайта: https://nodejs.org/\n",
        "\n",
        "2. Пакетный менеджер **npm (Node Package Manager)**: Вместе с Node.js устанавливается также npm. Это инструмент, который используется для установки и управления пакетами (библиотеками) в Node.js проектах.\n",
        "\n",
        "3. **Текстовый редактор или интегрированная среда разработки (IDE)**: Выберите среду разработки, которая вам нравится, чтобы создавать и редактировать файлы React приложения. Некоторые популярные варианты: Visual Studio Code, Sublime Text, Atom, WebStorm и другие.\n",
        "\n",
        "4. **Командная строка или терминал**: Для выполнения команд связанных с React приложением (например, установка зависимостей, запуск сервера разработки и т.д.), вам потребуется командная строка (на Windows это командная строка или PowerShell, на Mac и Linux - терминал).\n",
        "\n",
        "После установки Node.js и настройки среды разработки вы будете готовы создавать и запускать React приложения с помощью утилиты Create React App (это не само приложение, а утилита для быстрого создания новых проектов на React).\n",
        "\n",
        "Для создания нового проекта на React с помощью Create React App, выполните следующие шаги:\n",
        "\n",
        "1. Откройте командную строку или терминал.\n",
        "2. Убедитесь, что у вас установлен npm, введя команду **npm -v**. Если версия npm отображается, значит, все установлено правильно.\n",
        "3. Установите Create React App глобально на своем компьютере, введя команду **npm install -g create-react-app**. Это позволит вам использовать команду **create-react-app** для создания новых проектов.\n",
        "4. Создайте новый проект React, запустив команду **create-react-app my-app**, где **my-app** - это имя вашего нового проекта. Вы можете выбрать любое другое имя вместо **my-app**.\n",
        "5. Перейдите в созданную папку проекта, введя команду **cd my-app**.\n",
        "6. Запустите сервер разработки, введя команду **npm start**. Это запустит ваше React приложение, и вы сможете видеть его в браузере по адресу http://localhost:3000/.\n",
        "\n",
        "Теперь у вас есть рабочий React проект, и вы можете начать разрабатывать свое приложение, редактируя файлы в папке проекта."
      ],
      "metadata": {
        "id": "RqMSNI-4v3Wj"
      }
    },
    {
      "cell_type": "markdown",
      "source": [
        "# Как убедиться, что утилита npx работает?"
      ],
      "metadata": {
        "id": "CDDkhCcXj9Lp"
      }
    },
    {
      "cell_type": "markdown",
      "source": [
        "* Необходимо набрать команду:"
      ],
      "metadata": {
        "id": "1EhyM7AhkI9a"
      }
    },
    {
      "cell_type": "code",
      "source": [
        "npx --v"
      ],
      "metadata": {
        "id": "Q7KO2jSYmcWp"
      },
      "execution_count": null,
      "outputs": []
    },
    {
      "cell_type": "markdown",
      "source": [
        "* Если показало версию, значит все отлично"
      ],
      "metadata": {
        "id": "_5LENvcWmd5h"
      }
    },
    {
      "cell_type": "markdown",
      "source": [],
      "metadata": {
        "id": "2qFV1Iolmjou"
      }
    }
  ]
}