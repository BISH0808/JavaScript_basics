{
  "nbformat": 4,
  "nbformat_minor": 0,
  "metadata": {
    "colab": {
      "provenance": [],
      "authorship_tag": "ABX9TyPVRV8UiH7jrPYWS8u25uay",
      "include_colab_link": true
    },
    "kernelspec": {
      "name": "python3",
      "display_name": "Python 3"
    },
    "language_info": {
      "name": "python"
    }
  },
  "cells": [
    {
      "cell_type": "markdown",
      "metadata": {
        "id": "view-in-github",
        "colab_type": "text"
      },
      "source": [
        "<a href=\"https://colab.research.google.com/github/BISH0808/JavaScript_basics/blob/main/Notes_from_UlbiTV_video/function_component.ipynb\" target=\"_parent\"><img src=\"https://colab.research.google.com/assets/colab-badge.svg\" alt=\"Open In Colab\"/></a>"
      ]
    },
    {
      "cell_type": "markdown",
      "source": [
        "# Функциональный компонент"
      ],
      "metadata": {
        "id": "pL3tB-sWue9i"
      }
    },
    {
      "cell_type": "markdown",
      "source": [
        "* Все компоненты будут находиться внутри папки Components. Ее надо для начало создать"
      ],
      "metadata": {
        "id": "g61ZnXP4ujLy"
      }
    },
    {
      "cell_type": "markdown",
      "source": [
        "* При помощи **rfce** в VisualStudioCOde"
      ],
      "metadata": {
        "id": "3ICuMFGHut8k"
      }
    }
  ]
}