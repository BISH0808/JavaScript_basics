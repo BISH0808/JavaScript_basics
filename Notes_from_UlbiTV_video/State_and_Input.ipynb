{
  "nbformat": 4,
  "nbformat_minor": 0,
  "metadata": {
    "colab": {
      "provenance": [],
      "authorship_tag": "ABX9TyP3yCZk9/eW7M+RyJ7dwvuL",
      "include_colab_link": true
    },
    "kernelspec": {
      "name": "python3",
      "display_name": "Python 3"
    },
    "language_info": {
      "name": "python"
    }
  },
  "cells": [
    {
      "cell_type": "markdown",
      "metadata": {
        "id": "view-in-github",
        "colab_type": "text"
      },
      "source": [
        "<a href=\"https://colab.research.google.com/github/BISH0808/JavaScript_basics/blob/main/Notes_from_UlbiTV_video/State_and_Input.ipynb\" target=\"_parent\"><img src=\"https://colab.research.google.com/assets/colab-badge.svg\" alt=\"Open In Colab\"/></a>"
      ]
    },
    {
      "cell_type": "markdown",
      "source": [
        "# Управляемый Input"
      ],
      "metadata": {
        "id": "vRlm0wwlhv7E"
      }
    },
    {
      "cell_type": "markdown",
      "source": [
        "* Ниже пример с управляемым инпутом\n",
        "* Создадим еще одно состояние. Научимся это состояние связывать с нашим инпутом."
      ],
      "metadata": {
        "id": "pjBSg4Bsh0u6"
      }
    },
    {
      "cell_type": "code",
      "source": [
        "import React, {useState} from 'react';\n",
        "\n",
        "function App() {\n",
        "\n",
        " const [likes, setLikes] = useState(0)\n",
        " const [value, setValue] = useState('ТЕКСТ В ИНПУТЕ')\n",
        "\n",
        " function increment(){\n",
        "  setLikes(likes +1)\n",
        "}\n",
        "\n",
        "function decrement(){\n",
        "  setLikes(likes -1)\n",
        "}\n",
        "\n",
        "  return (\n",
        "    <div className=\"App\">\n",
        "        <h1>{likes}</h1>\n",
        "        <h1>{value}</h1>\n",
        "        <input type=\"text\" value={value}/>\n",
        "        <button onClick={increment}>Increment</button>\n",
        "        <button onClick={decrement}>Decrement</button>\n",
        "\n",
        "    </div>\n",
        "  );\n",
        "}\n",
        "\n",
        "export default App;\n"
      ],
      "metadata": {
        "id": "vemtSPQZMXzH"
      },
      "execution_count": null,
      "outputs": []
    },
    {
      "cell_type": "markdown",
      "source": [
        "* Получилось вот так:"
      ],
      "metadata": {
        "id": "IlMJFdbTMTip"
      }
    },
    {
      "cell_type": "markdown",
      "source": [
        "![image.png](data:image/png;base64,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)"
      ],
      "metadata": {
        "id": "1MmfqX6J-boS"
      }
    },
    {
      "cell_type": "markdown",
      "source": [
        "* Как видно, текст внутри заголовка и текст внутри инпута совпадает"
      ],
      "metadata": {
        "id": "uRuO8IZd-cPC"
      }
    },
    {
      "cell_type": "markdown",
      "source": [
        "* Далее реализуем функцию, которая будет отслеживать изменения в Input. Вешаем слушатель событий Onchange"
      ],
      "metadata": {
        "id": "I6eOkrxdMK6Q"
      }
    },
    {
      "cell_type": "code",
      "source": [
        "import React, {useState} from 'react';\n",
        "\n",
        "function App() {\n",
        "\n",
        " const [likes, setLikes] = useState(0)\n",
        " const [value, setValue] = useState('ТЕКСТ В ИНПУТЕ')\n",
        "\n",
        " function increment(){\n",
        "  setLikes(likes +1)\n",
        "}\n",
        "\n",
        "function decrement(){\n",
        "  setLikes(likes -1)\n",
        "}\n",
        "\n",
        "  return (\n",
        "    <div className=\"App\">\n",
        "        <h1>{likes}</h1>\n",
        "        <h1>{value}</h1>\n",
        "        <input\n",
        "          type=\"text\"\n",
        "          value={value}\n",
        "          onChange={event => setValue(event.target.value)}\n",
        "         />\n",
        "        <button onClick={increment}>Increment</button>\n",
        "        <button onClick={decrement}>Decrement</button>\n",
        "\n",
        "    </div>\n",
        "  );\n",
        "}\n",
        "\n",
        "export default App;"
      ],
      "metadata": {
        "id": "4bG_npXKNUJu"
      },
      "execution_count": null,
      "outputs": []
    },
    {
      "cell_type": "markdown",
      "source": [
        "* Теперь когда пишешь что-то в Input это также отображается и в заголовке."
      ],
      "metadata": {
        "id": "WMUtqms-NVRd"
      }
    },
    {
      "cell_type": "markdown",
      "source": [
        "![image.png](data:image/png;base64,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)"
      ],
      "metadata": {
        "id": "MZ8fMlDgNff9"
      }
    },
    {
      "cell_type": "markdown",
      "source": [
        "* Теперь значение в инпуте всегда совпадает с состоянием. Добились синхронизации."
      ],
      "metadata": {
        "id": "q96oqOq8Nmet"
      }
    },
    {
      "cell_type": "markdown",
      "source": [
        "* Такие компоненты называются управляемыми, поскольку мы всегда можем изменить значение этого компонента, изменив состояние."
      ],
      "metadata": {
        "id": "dS650Ue-_OHU"
      }
    }
  ]
}