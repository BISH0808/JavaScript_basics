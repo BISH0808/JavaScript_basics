{
  "nbformat": 4,
  "nbformat_minor": 0,
  "metadata": {
    "colab": {
      "provenance": [],
      "authorship_tag": "ABX9TyMaGpqMCGNiva5lXKS/Hd3t",
      "include_colab_link": true
    },
    "kernelspec": {
      "name": "python3",
      "display_name": "Python 3"
    },
    "language_info": {
      "name": "python"
    }
  },
  "cells": [
    {
      "cell_type": "markdown",
      "metadata": {
        "id": "view-in-github",
        "colab_type": "text"
      },
      "source": [
        "<a href=\"https://colab.research.google.com/github/BISH0808/JavaScript_basics/blob/main/Notes_from_UlbiTV_video/UseRef_Dom_element_Uncontrol_component.ipynb\" target=\"_parent\"><img src=\"https://colab.research.google.com/assets/colab-badge.svg\" alt=\"Open In Colab\"/></a>"
      ]
    },
    {
      "cell_type": "markdown",
      "source": [
        "# хук useRef. Доступ к DOM элементу. Неуправляемый компонент"
      ],
      "metadata": {
        "id": "Vi5MSiFeOjxR"
      }
    },
    {
      "cell_type": "markdown",
      "source": [
        "* В предыщем [My Notebook](https://colab.research.google.com/drive/1icmNg39s3qYyv2TinLEfqxhVsOBDgYOB#scrollTo=Kho01NXWlSmU)      мы начились получать данные из управляемого Inputa. В этом Notebook мы научимся получать данные из неуправляемого Inputa. Для этого можно воспользоваться новым хуком, который называется **useRef**. C помощью этого хука мы можем получить доступ к DOM элементу, и уже этого DOM элемента забрать value."
      ],
      "metadata": {
        "id": "EakCgS5f1rJY"
      }
    },
    {
      "cell_type": "markdown",
      "source": [
        "* Ниже показано, как использовать хук **useRef**"
      ],
      "metadata": {
        "id": "N5mRngSV-hB0"
      }
    },
    {
      "cell_type": "code",
      "execution_count": null,
      "metadata": {
        "id": "kEYSENBVOZWm"
      },
      "outputs": [],
      "source": []
    }
  ]
}