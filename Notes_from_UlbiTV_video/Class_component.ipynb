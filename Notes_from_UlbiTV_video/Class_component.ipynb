{
  "nbformat": 4,
  "nbformat_minor": 0,
  "metadata": {
    "colab": {
      "provenance": [],
      "authorship_tag": "ABX9TyOxox9pItuOIR39q9rntvWD",
      "include_colab_link": true
    },
    "kernelspec": {
      "name": "python3",
      "display_name": "Python 3"
    },
    "language_info": {
      "name": "python"
    }
  },
  "cells": [
    {
      "cell_type": "markdown",
      "metadata": {
        "id": "view-in-github",
        "colab_type": "text"
      },
      "source": [
        "<a href=\"https://colab.research.google.com/github/BISH0808/JavaScript_basics/blob/main/Notes_from_UlbiTV_video/Class_component.ipynb\" target=\"_parent\"><img src=\"https://colab.research.google.com/assets/colab-badge.svg\" alt=\"Open In Colab\"/></a>"
      ]
    },
    {
      "cell_type": "markdown",
      "source": [
        "# Классовый компонент"
      ],
      "metadata": {
        "id": "G2VJyYOCtLM5"
      }
    },
    {
      "cell_type": "markdown",
      "source": [
        "* Альтернетивой создания компонента через функцию является создание компанента через класс."
      ],
      "metadata": {
        "id": "iE7bB-yL7ppg"
      }
    },
    {
      "cell_type": "markdown",
      "source": [
        "* Создаем класс, который будет являться названием компонента"
      ],
      "metadata": {
        "id": "yIxqcOg8tOPw"
      }
    },
    {
      "cell_type": "markdown",
      "source": [
        "* Классовые компоненты работают иначе. Неоюходимо реализовать фуникцию **render**, которая будет возвращать jsx. В отличии от функционального компонента, который сразу jsx возвращает без всяких промежуточных функций."
      ],
      "metadata": {
        "id": "Anyr_Zn09QOK"
      }
    },
    {
      "cell_type": "code",
      "execution_count": null,
      "metadata": {
        "id": "BxDY4WEQtIP7"
      },
      "outputs": [],
      "source": []
    }
  ]
}