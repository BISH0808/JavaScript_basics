{
  "nbformat": 4,
  "nbformat_minor": 0,
  "metadata": {
    "colab": {
      "provenance": [],
      "authorship_tag": "ABX9TyNoyprWt8jUZ8ML1tbHPsoT",
      "include_colab_link": true
    },
    "kernelspec": {
      "name": "python3",
      "display_name": "Python 3"
    },
    "language_info": {
      "name": "python"
    }
  },
  "cells": [
    {
      "cell_type": "markdown",
      "metadata": {
        "id": "view-in-github",
        "colab_type": "text"
      },
      "source": [
        "<a href=\"https://colab.research.google.com/github/BISH0808/JavaScript_basics/blob/main/Notes_from_UlbiTV_video/Class_component.ipynb\" target=\"_parent\"><img src=\"https://colab.research.google.com/assets/colab-badge.svg\" alt=\"Open In Colab\"/></a>"
      ]
    },
    {
      "cell_type": "markdown",
      "source": [
        "# Классовый компонент"
      ],
      "metadata": {
        "id": "G2VJyYOCtLM5"
      }
    },
    {
      "cell_type": "markdown",
      "source": [
        "* Альтернетивой создания компонента через функцию является создание компанента через класс."
      ],
      "metadata": {
        "id": "iE7bB-yL7ppg"
      }
    },
    {
      "cell_type": "markdown",
      "source": [
        "* Создаем класс, который будет являться названием компонента"
      ],
      "metadata": {
        "id": "yIxqcOg8tOPw"
      }
    },
    {
      "cell_type": "markdown",
      "source": [
        "* Классовые компоненты работают иначе. Неоюходимо реализовать фуникцию **render**, которая будет возвращать jsx. В отличии от функционального компонента, который сразу jsx возвращает без всяких промежуточных функций."
      ],
      "metadata": {
        "id": "Anyr_Zn09QOK"
      }
    },
    {
      "cell_type": "markdown",
      "source": [
        "* Состояние в классовом компоненте делается иначе, здесь хуки сипользовать нельзя. Делается через constructor"
      ],
      "metadata": {
        "id": "EYTiDGNsy7bq"
      }
    },
    {
      "cell_type": "markdown",
      "source": [
        "* Внутри класса function можно не прописывать."
      ],
      "metadata": {
        "id": "IQeg5fay0aY5"
      }
    },
    {
      "cell_type": "markdown",
      "source": [
        "* Поскольку мы находимся внутри класса, чтобы обратиться к каким-то свойсвтам необходимо использовать **this**."
      ],
      "metadata": {
        "id": "myHz0CRV0gH4"
      }
    },
    {
      "cell_type": "markdown",
      "source": [
        "* Код в **ClassCounter.jsx** будет выглядеть следующим образом:"
      ],
      "metadata": {
        "id": "r48rb9cl1h5B"
      }
    },
    {
      "cell_type": "code",
      "execution_count": null,
      "metadata": {
        "id": "BxDY4WEQtIP7"
      },
      "outputs": [],
      "source": [
        "import React from 'react';\n",
        "\n",
        "class ClassCounter extends React.Component {\n",
        "\n",
        "    constructor(props){\n",
        "        super(props);\n",
        "        this.state = {\n",
        "            count: 0\n",
        "        }\n",
        "        this.increment = this.increment.bind(this);\n",
        "        this.decrement = this.decrement.bind(this);\n",
        "    }\n",
        "\n",
        "    increment(){\n",
        "        this.setState({count: this.state.count + 1})\n",
        "      }\n",
        "\n",
        "    decrement(){\n",
        "        this.setState({count: this.state.count - 1})\n",
        "      }\n",
        "\n",
        "    render() {\n",
        "        return(\n",
        "        <div>\n",
        "            <h1>{this.state.count}</h1>\n",
        "            <button onClick={this.increment}>Increment</button>\n",
        "            <button onClick={this.decrement}>Decrement</button>\n",
        "\n",
        "        </div>\n",
        "        )\n",
        "\n",
        "    }\n",
        "\n",
        "\n",
        "}\n",
        "\n",
        "export default ClassCounter;"
      ]
    },
    {
      "cell_type": "markdown",
      "source": [
        "* Код в **App** будет выглядеть следующим образом:"
      ],
      "metadata": {
        "id": "4SQNKJxL3yH6"
      }
    },
    {
      "cell_type": "code",
      "source": [
        "import React, {useState} from 'react';\n",
        "import Counter from './components/Counter';\n",
        "import ClassCounter from './components/ClassCounter';\n",
        "\n",
        "function App() {\n",
        "\n",
        "const [value, setValue] = useState('ТЕКСТ В ИНПУТЕ')\n",
        "\n",
        "\n",
        "  return (\n",
        "    <div className=\"App\">\n",
        "      <ClassCounter/>\n",
        "\n",
        "    </div>\n",
        "  );\n",
        "}\n",
        "\n",
        "export default App;\n"
      ],
      "metadata": {
        "id": "eQDwHSyv31eW"
      },
      "execution_count": null,
      "outputs": []
    },
    {
      "cell_type": "markdown",
      "source": [
        "* Счетчик выглядит также:"
      ],
      "metadata": {
        "id": "fiNVNal44J7T"
      }
    },
    {
      "cell_type": "markdown",
      "source": [
        "![image.png](data:image/png;base64,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)"
      ],
      "metadata": {
        "id": "6Hf3rA3Y4NE8"
      }
    },
    {
      "cell_type": "markdown",
      "source": [
        "## Спрашиваем **ChatGPT**:"
      ],
      "metadata": {
        "id": "MwohgkYd4Phr"
      }
    },
    {
      "cell_type": "markdown",
      "source": [
        "* Зачем нужна функция bind?"
      ],
      "metadata": {
        "id": "srdK3fCZ6Nzj"
      }
    },
    {
      "cell_type": "markdown",
      "source": [
        "**ChatGPT:** Функция bind является одним из методов, предоставляемых JavaScript для работы с функциями. Она используется для изменения контекста выполнения функции и явно привязывает указанный объект к функции, что позволяет убедиться, что функция будет вызвана с определенным объектом как this.\n",
        "\n",
        "Основная цель метода bind - это создать новую функцию, которая будет иметь привязанный контекст, но не вызывать эту функцию. Вместо этого, она возвращает новую функцию, которую можно вызвать позже.\n",
        "\n",
        "Пример использования bind:"
      ],
      "metadata": {
        "id": "Jm6V5aWB6V88"
      }
    },
    {
      "cell_type": "code",
      "source": [
        "const person = {\n",
        "  name: \"John\",\n",
        "  sayHello: function() {\n",
        "    console.log(`Hello, ${this.name}!`);\n",
        "  }\n",
        "};\n",
        "\n",
        "const greet = person.sayHello.bind(person); // Привязываем контекст person к функции\n",
        "\n",
        "greet(); // Вызываем новую функцию, которая будет работать с контекстом person"
      ],
      "metadata": {
        "id": "ioOW-TPV6YN1"
      },
      "execution_count": null,
      "outputs": []
    },
    {
      "cell_type": "markdown",
      "source": [
        "В этом примере bind используется для создания функции greet, которая имеет контекст person. Когда мы вызываем greet(), она использует контекст person, и выводит \"Hello, John!\".\n",
        "\n",
        "bind также может быть использован для частичного применения аргументов, что позволяет зафиксировать определенные аргументы функции перед ее вызовом. Это полезно, когда вам нужно передать функцию с некоторыми предустановленными значениями.\n",
        "\n",
        "Пример частичного применения аргументов:"
      ],
      "metadata": {
        "id": "ytE5wbI56fW8"
      }
    },
    {
      "cell_type": "code",
      "source": [
        "function multiply(x, y) {\n",
        "  return x * y;\n",
        "}\n",
        "\n",
        "const multiplyByTwo = multiply.bind(null, 2); // Фиксируем первый аргумент\n",
        "\n",
        "console.log(multiplyByTwo(5)); // Выводит 10, так как первый аргумент (2) фиксирован"
      ],
      "metadata": {
        "id": "7hapWbVL6k9r"
      },
      "execution_count": null,
      "outputs": []
    },
    {
      "cell_type": "markdown",
      "source": [
        "Здесь мы используем bind, чтобы создать новую функцию multiplyByTwo, которая всегда будет умножать свой первый аргумент на 2."
      ],
      "metadata": {
        "id": "lzpXOe5r6iaL"
      }
    }
  ]
}