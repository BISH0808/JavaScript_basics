{
  "nbformat": 4,
  "nbformat_minor": 0,
  "metadata": {
    "colab": {
      "provenance": [],
      "authorship_tag": "ABX9TyP9AlW2+pL8mOhk3Wdcaby5",
      "include_colab_link": true
    },
    "kernelspec": {
      "name": "python3",
      "display_name": "Python 3"
    },
    "language_info": {
      "name": "python"
    }
  },
  "cells": [
    {
      "cell_type": "markdown",
      "metadata": {
        "id": "view-in-github",
        "colab_type": "text"
      },
      "source": [
        "<a href=\"https://colab.research.google.com/github/BISH0808/JavaScript_basics/blob/main/Notes_from_UlbiTV_video/Plan.ipynb\" target=\"_parent\"><img src=\"https://colab.research.google.com/assets/colab-badge.svg\" alt=\"Open In Colab\"/></a>"
      ]
    },
    {
      "cell_type": "markdown",
      "source": [
        "# План:"
      ],
      "metadata": {
        "id": "c7MZqHBp68gM"
      }
    },
    {
      "cell_type": "markdown",
      "source": [
        "* Введение\n",
        "* Теория\n",
        "* Начало разработки. Создание проекта\n",
        "* Что такое JSX?\n",
        "* Компонент App. Работа с состоянием. UseState\n",
        "* Управляемый инпут\n",
        "* Первый функциональный компонент\n",
        "* Первый классовый компонент\n",
        "* Что такое хуки? useState, useEffect\n",
        "* Стили. CSS. Классы\n",
        "* Props. Аргументы компонента.\n",
        "* Работы со списками. Преобразование массива объектов в массив React элементов\n",
        "* Форма создания поста. Управляемые и неуправляемые компоненты\n",
        "* Создание UI библиотеки. Первые компоненты. CSS модули. Пропс children\n",
        "* Предотвращаем обновление страницы при submit формы\n",
        "* хук useRef. Доступ к DOM элементу. Неуправляемый компонент\n",
        "* React Devtools. Инструменты разработчика React\n",
        "* Обмен данными между компонентами. От родителя к ребенку. От ребенка к родителю.\n",
        "* Отрисовка по условию\n",
        "* Сортировка. Выпадающий список\n",
        "* Поиск. Фильтрация.\n",
        "* useMemo. Мемоизация. Кеширование\n",
        "* Модальное окно. Переиспользуемый UI компонент\n",
        "* Анимации. React transition group\n",
        "* Декомпозиция. Кастомные хуки\n",
        "* Работа с сервером. Axios\n",
        "* Жизненный цикл компонента. useEffect\n",
        "* API. PostService\n",
        "* Индикация загрузки данных с сервера\n",
        "* Компонент Loader. Анимации\n",
        "* Кастомный хук useFetching(). Обработка ошибок\n",
        "* Постраничный вывод. Пагинация (pagination)\n",
        "* Обьяснение механизма изменения состояния\n",
        "* React router. Постраничная навигация. BrowserRouter, Route, Switch, Redirect\n",
        "* Динамическая навигация. useHistory, useParams\n",
        "* Загрузка комментариев к посту\n",
        "* Улучшаем навигацию. Приватные и публичные маршруты\n",
        "* useContext. Глобальные данные. Авторизация пользователя\n",
        "*  Бесконечная лента. Динамическая пагинация. useObserver\n"
      ],
      "metadata": {
        "id": "t0CXR-878_VR"
      }
    }
  ]
}